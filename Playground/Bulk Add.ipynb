{
 "cells": [
  {
   "cell_type": "markdown",
   "metadata": {},
   "source": [
    "## Setup"
   ]
  },
  {
   "cell_type": "code",
   "execution_count": 1,
   "metadata": {},
   "outputs": [
    {
     "data": {
      "text/plain": [
       "True"
      ]
     },
     "execution_count": 1,
     "metadata": {},
     "output_type": "execute_result"
    }
   ],
   "source": [
    "import firebase_admin\n",
    "from firebase_admin import credentials, firestore, auth\n",
    "from supabase import create_client, Client\n",
    "import pandas as pd\n",
    "import dotenv\n",
    "import os\n",
    "import uuid\n",
    "from datetime import datetime, timezone\n",
    "import requests\n",
    "from urllib.parse import urlparse, parse_qs\n",
    "\n",
    "\n",
    "\n",
    "SERVICE_ACCOUNT_KEY = \"./../serviceAccountKey.json\"\n",
    "FILE_PATH = \"./../Documentation\\SETS Team, RS, District Officers - SETS Dubar 2025 (Responses) (2).xlsx\"\n",
    "\n",
    "dotenv.load_dotenv()"
   ]
  },
  {
   "cell_type": "code",
   "execution_count": 2,
   "metadata": {},
   "outputs": [],
   "source": [
    "cred = credentials.Certificate(SERVICE_ACCOUNT_KEY)\n",
    "firebase_admin.initialize_app(cred)\n",
    "db = firestore.client()\n",
    "supabase = create_client(os.getenv('EXPO_PUBLIC_SUPABASE_URL'), os.getenv('EXPO_PUBLIC_SUPABASE_ANON_KEY'))"
   ]
  },
  {
   "cell_type": "code",
   "execution_count": 3,
   "metadata": {},
   "outputs": [],
   "source": [
    "df = pd.read_excel(FILE_PATH)"
   ]
  },
  {
   "cell_type": "markdown",
   "metadata": {},
   "source": [
    "## Preprocess"
   ]
  },
  {
   "cell_type": "code",
   "execution_count": 4,
   "metadata": {},
   "outputs": [
    {
     "data": {
      "text/html": [
       "<div>\n",
       "<style scoped>\n",
       "    .dataframe tbody tr th:only-of-type {\n",
       "        vertical-align: middle;\n",
       "    }\n",
       "\n",
       "    .dataframe tbody tr th {\n",
       "        vertical-align: top;\n",
       "    }\n",
       "\n",
       "    .dataframe thead th {\n",
       "        text-align: right;\n",
       "    }\n",
       "</style>\n",
       "<table border=\"1\" class=\"dataframe\">\n",
       "  <thead>\n",
       "    <tr style=\"text-align: right;\">\n",
       "      <th></th>\n",
       "      <th>Timestamp</th>\n",
       "      <th>Email address</th>\n",
       "      <th>Full Name</th>\n",
       "      <th>Affiliation</th>\n",
       "      <th>Designation</th>\n",
       "      <th>Date of Birth</th>\n",
       "      <th>Sex</th>\n",
       "      <th>Photograph</th>\n",
       "      <th>Spouse's Name</th>\n",
       "      <th>Wedding Anniversary</th>\n",
       "      <th>...</th>\n",
       "      <th>Business Address</th>\n",
       "      <th>Business Website</th>\n",
       "      <th>About your business</th>\n",
       "      <th>Emergency Contact Name</th>\n",
       "      <th>Emergency Contact Relationship</th>\n",
       "      <th>Emergency Contact Phone</th>\n",
       "      <th>T Shirt Size</th>\n",
       "      <th>Shirt Size</th>\n",
       "      <th>Meal Preference</th>\n",
       "      <th>Blood Group</th>\n",
       "    </tr>\n",
       "  </thead>\n",
       "  <tbody>\n",
       "    <tr>\n",
       "      <th>0</th>\n",
       "      <td>2024-12-19 10:03:04.673</td>\n",
       "      <td>gopi@fin1solutions.com</td>\n",
       "      <td>R GOPINATH</td>\n",
       "      <td>SETS Team</td>\n",
       "      <td>SETS SECRETARY</td>\n",
       "      <td>1972-02-25 00:00:00</td>\n",
       "      <td>Male</td>\n",
       "      <td>https://drive.google.com/open?id=18w_j4W8cQtuI...</td>\n",
       "      <td>VIJAYALAKSHMI</td>\n",
       "      <td>1998-11-02</td>\n",
       "      <td>...</td>\n",
       "      <td>NO 264 B BLOCK FLAT NO 4 ANBUR COLONY ANNA NAG...</td>\n",
       "      <td>www.fin1solutions.com</td>\n",
       "      <td>Fin 1 Solutions is a DSA for HDFC Bank for the...</td>\n",
       "      <td>TARUN GOPINATH</td>\n",
       "      <td>SON</td>\n",
       "      <td>7358543242</td>\n",
       "      <td>L</td>\n",
       "      <td>42</td>\n",
       "      <td>Non-Vegetarian</td>\n",
       "      <td>NaN</td>\n",
       "    </tr>\n",
       "    <tr>\n",
       "      <th>1</th>\n",
       "      <td>2024-12-26 19:22:13.109</td>\n",
       "      <td>rtn.uma1505@gmail.com</td>\n",
       "      <td>Rtn. Uma Yuvaraj</td>\n",
       "      <td>SETS Team</td>\n",
       "      <td>Ex AG</td>\n",
       "      <td>1980-05-15 00:00:00</td>\n",
       "      <td>Female</td>\n",
       "      <td>https://drive.google.com/open?id=1_zb_c7fblsNC...</td>\n",
       "      <td>Rtn. Yuvaraj</td>\n",
       "      <td>2020-03-24</td>\n",
       "      <td>...</td>\n",
       "      <td>.</td>\n",
       "      <td>notapplicable.com</td>\n",
       "      <td>..</td>\n",
       "      <td>Yuvaraj</td>\n",
       "      <td>Spouse</td>\n",
       "      <td>9361455621</td>\n",
       "      <td>M</td>\n",
       "      <td>0</td>\n",
       "      <td>Vegetarian</td>\n",
       "      <td>NaN</td>\n",
       "    </tr>\n",
       "    <tr>\n",
       "      <th>2</th>\n",
       "      <td>2024-12-26 19:35:50.786</td>\n",
       "      <td>advocatesuresh763@gmail.com</td>\n",
       "      <td>Sureshselvakumar</td>\n",
       "      <td>SETS Team</td>\n",
       "      <td>President</td>\n",
       "      <td>1965-05-31 00:00:00</td>\n",
       "      <td>Male</td>\n",
       "      <td>https://drive.google.com/open?id=1Yrt2omdhAWWu...</td>\n",
       "      <td>Subbulakshmi</td>\n",
       "      <td>1965-05-31</td>\n",
       "      <td>...</td>\n",
       "      <td>FOM, 4 th floor, Jain citadel Apartment, Justi...</td>\n",
       "      <td>NaN</td>\n",
       "      <td>My father is retired Judge, I handle all type ...</td>\n",
       "      <td>Subbulakshmi</td>\n",
       "      <td>Wife</td>\n",
       "      <td>9790708712</td>\n",
       "      <td>XXXL</td>\n",
       "      <td>48</td>\n",
       "      <td>Non-Vegetarian</td>\n",
       "      <td>NaN</td>\n",
       "    </tr>\n",
       "    <tr>\n",
       "      <th>3</th>\n",
       "      <td>2024-12-26 19:38:22.354</td>\n",
       "      <td>nokiasai@gmail.com</td>\n",
       "      <td>M Sesha Sai</td>\n",
       "      <td>SETS Team</td>\n",
       "      <td>DRCC</td>\n",
       "      <td>1965-08-22 00:00:00</td>\n",
       "      <td>Male</td>\n",
       "      <td>https://drive.google.com/open?id=1dK5I2dsGoxeW...</td>\n",
       "      <td>M Kamala</td>\n",
       "      <td>1989-05-19</td>\n",
       "      <td>...</td>\n",
       "      <td>62 Veerabhadran street. Nungambakkam. Chennai ...</td>\n",
       "      <td>www.farmguru.org</td>\n",
       "      <td>Farm Guru is a social initiative that educates...</td>\n",
       "      <td>M Kamala</td>\n",
       "      <td>Wife</td>\n",
       "      <td>9840546655</td>\n",
       "      <td>L</td>\n",
       "      <td>42</td>\n",
       "      <td>Non-Vegetarian</td>\n",
       "      <td>NaN</td>\n",
       "    </tr>\n",
       "    <tr>\n",
       "      <th>4</th>\n",
       "      <td>2024-12-27 11:10:49.283</td>\n",
       "      <td>bharatmpujara@gmail.com</td>\n",
       "      <td>Bharat  Pujara</td>\n",
       "      <td>SETS Team</td>\n",
       "      <td>Chairman</td>\n",
       "      <td>1955-04-15 00:00:00</td>\n",
       "      <td>Male</td>\n",
       "      <td>https://drive.google.com/open?id=1wZj4WhcrnMn1...</td>\n",
       "      <td>Bharati pujara</td>\n",
       "      <td>1976-02-07</td>\n",
       "      <td>...</td>\n",
       "      <td>6/7 5th street T K salai Mylapore Chennai 600004</td>\n",
       "      <td>NaN</td>\n",
       "      <td>Suppling Raw material to paper mills for Recyc...</td>\n",
       "      <td>Bharati Pujara</td>\n",
       "      <td>Wife</td>\n",
       "      <td>9840938880</td>\n",
       "      <td>XXXL</td>\n",
       "      <td>50</td>\n",
       "      <td>Vegetarian</td>\n",
       "      <td>NaN</td>\n",
       "    </tr>\n",
       "  </tbody>\n",
       "</table>\n",
       "<p>5 rows × 29 columns</p>\n",
       "</div>"
      ],
      "text/plain": [
       "                Timestamp                Email address          Full Name  \\\n",
       "0 2024-12-19 10:03:04.673       gopi@fin1solutions.com         R GOPINATH   \n",
       "1 2024-12-26 19:22:13.109        rtn.uma1505@gmail.com   Rtn. Uma Yuvaraj   \n",
       "2 2024-12-26 19:35:50.786  advocatesuresh763@gmail.com  Sureshselvakumar    \n",
       "3 2024-12-26 19:38:22.354           nokiasai@gmail.com        M Sesha Sai   \n",
       "4 2024-12-27 11:10:49.283      bharatmpujara@gmail.com    Bharat  Pujara    \n",
       "\n",
       "  Affiliation     Designation        Date of Birth     Sex  \\\n",
       "0   SETS Team  SETS SECRETARY  1972-02-25 00:00:00    Male   \n",
       "1   SETS Team           Ex AG  1980-05-15 00:00:00  Female   \n",
       "2   SETS Team      President   1965-05-31 00:00:00    Male   \n",
       "3   SETS Team            DRCC  1965-08-22 00:00:00    Male   \n",
       "4   SETS Team       Chairman   1955-04-15 00:00:00    Male   \n",
       "\n",
       "                                          Photograph   Spouse's Name  \\\n",
       "0  https://drive.google.com/open?id=18w_j4W8cQtuI...   VIJAYALAKSHMI   \n",
       "1  https://drive.google.com/open?id=1_zb_c7fblsNC...   Rtn. Yuvaraj    \n",
       "2  https://drive.google.com/open?id=1Yrt2omdhAWWu...   Subbulakshmi    \n",
       "3  https://drive.google.com/open?id=1dK5I2dsGoxeW...        M Kamala   \n",
       "4  https://drive.google.com/open?id=1wZj4WhcrnMn1...  Bharati pujara   \n",
       "\n",
       "  Wedding Anniversary  ...                                   Business Address  \\\n",
       "0          1998-11-02  ...  NO 264 B BLOCK FLAT NO 4 ANBUR COLONY ANNA NAG...   \n",
       "1          2020-03-24  ...                                                  .   \n",
       "2          1965-05-31  ...  FOM, 4 th floor, Jain citadel Apartment, Justi...   \n",
       "3          1989-05-19  ...  62 Veerabhadran street. Nungambakkam. Chennai ...   \n",
       "4          1976-02-07  ...   6/7 5th street T K salai Mylapore Chennai 600004   \n",
       "\n",
       "        Business Website                                About your business  \\\n",
       "0  www.fin1solutions.com  Fin 1 Solutions is a DSA for HDFC Bank for the...   \n",
       "1      notapplicable.com                                                 ..   \n",
       "2                    NaN  My father is retired Judge, I handle all type ...   \n",
       "3       www.farmguru.org  Farm Guru is a social initiative that educates...   \n",
       "4                    NaN  Suppling Raw material to paper mills for Recyc...   \n",
       "\n",
       "   Emergency Contact Name Emergency Contact Relationship  \\\n",
       "0          TARUN GOPINATH                            SON   \n",
       "1                Yuvaraj                         Spouse    \n",
       "2           Subbulakshmi                            Wife   \n",
       "3               M Kamala                            Wife   \n",
       "4         Bharati Pujara                           Wife    \n",
       "\n",
       "  Emergency Contact Phone T Shirt Size Shirt Size Meal Preference Blood Group   \n",
       "0              7358543242            L         42  Non-Vegetarian          NaN  \n",
       "1              9361455621            M          0      Vegetarian          NaN  \n",
       "2              9790708712         XXXL         48  Non-Vegetarian          NaN  \n",
       "3              9840546655            L         42  Non-Vegetarian          NaN  \n",
       "4              9840938880         XXXL         50      Vegetarian          NaN  \n",
       "\n",
       "[5 rows x 29 columns]"
      ]
     },
     "execution_count": 4,
     "metadata": {},
     "output_type": "execute_result"
    }
   ],
   "source": [
    "df.head()"
   ]
  },
  {
   "cell_type": "code",
   "execution_count": 5,
   "metadata": {},
   "outputs": [],
   "source": [
    "df.columns = df.columns.str.lower().str.strip().str.replace(' ', '_').str.replace(\"'\", \"\")\n",
    "df.rename(columns={\n",
    "    \"if_self-employed_:_business_name_/_if_salaried_:_company_name\": \"company_name\",\n",
    "    \"designation\": \"sets_designation\",\n",
    "    \"role_in_business_/_designation_in_company\": \"designation\",\n",
    "    \"full_name\": \"name\"}, inplace=True)\n",
    "df.drop(columns=['timestamp'], inplace=True)"
   ]
  },
  {
   "cell_type": "code",
   "execution_count": 6,
   "metadata": {},
   "outputs": [
    {
     "name": "stderr",
     "output_type": "stream",
     "text": [
      "C:\\Users\\Anirudh\\AppData\\Local\\Temp\\ipykernel_10592\\366255470.py:7: FutureWarning: Setting an item of incompatible dtype is deprecated and will raise an error in a future version of pandas. Value '' has dtype incompatible with float64, please explicitly cast to a compatible dtype first.\n",
      "  df.fillna(\"\", inplace=True)\n"
     ]
    }
   ],
   "source": [
    "df[\"name_lower\"] = df[\"name\"].str.lower()\n",
    "df[\"company_name_lower\"] = df[\"company_name\"].str.lower()\n",
    "df[\"club_name_lower\"] = df[\"club_name\"].str.lower()\n",
    "df[\"priority\"] = 0\n",
    "df['role'] = \"member\"\n",
    "df[\"support\"] = True\n",
    "df.fillna(\"\", inplace=True)"
   ]
  },
  {
   "cell_type": "code",
   "execution_count": 7,
   "metadata": {},
   "outputs": [],
   "source": [
    "def convert_timestamp_to_string(timestamp):\n",
    "    \n",
    "    if pd.isna(timestamp):\n",
    "        return \"\"\n",
    "    \n",
    "    if isinstance(timestamp, datetime):\n",
    "        if timestamp.tzinfo is None:  # Check if the timestamp is naive\n",
    "            timestamp = timestamp.replace(tzinfo=timezone.utc)\n",
    "        else:\n",
    "            timestamp = timestamp.astimezone(timezone.utc)\n",
    "    formatted_string = timestamp.strftime('%Y-%m-%d %H:%M:%S%z')\n",
    "    if formatted_string.endswith(\"+0000\"):\n",
    "        formatted_string = formatted_string[:-2] + \":00\"\n",
    "    return formatted_string"
   ]
  },
  {
   "cell_type": "code",
   "execution_count": 8,
   "metadata": {},
   "outputs": [
    {
     "data": {
      "text/plain": [
       "Index(['email_address', 'name', 'affiliation', 'sets_designation',\n",
       "       'date_of_birth', 'sex', 'photograph', 'spouses_name',\n",
       "       'wedding_anniversary', 'phone', 'email', 'club_name', 'rotarian_since',\n",
       "       'rotary_foundation_title', 'residential_address', 'company_name',\n",
       "       'designation', 'type_of_business', 'business_address',\n",
       "       'business_website', 'about_your_business', 'emergency_contact_name',\n",
       "       'emergency_contact_relationship', 'emergency_contact_phone',\n",
       "       't_shirt_size', 'shirt_size', 'meal_preference', 'blood_group',\n",
       "       'name_lower', 'company_name_lower', 'club_name_lower', 'priority',\n",
       "       'role', 'support'],\n",
       "      dtype='object')"
      ]
     },
     "execution_count": 8,
     "metadata": {},
     "output_type": "execute_result"
    }
   ],
   "source": [
    "df.columns"
   ]
  },
  {
   "cell_type": "code",
   "execution_count": 9,
   "metadata": {},
   "outputs": [],
   "source": [
    "# datetime_columns = df.select_dtypes(include=[\"datetime64[ns]\", \"datetime64[ns, UTC]\"]).columns"
   ]
  },
  {
   "cell_type": "code",
   "execution_count": 10,
   "metadata": {},
   "outputs": [],
   "source": [
    "datetime_columns = ['date_of_birth', 'wedding_anniversary']"
   ]
  },
  {
   "cell_type": "code",
   "execution_count": 11,
   "metadata": {},
   "outputs": [],
   "source": [
    "df['date_of_birth'] = pd.to_datetime(df['date_of_birth'], errors='coerce')\n",
    "df['wedding_anniversary'] = pd.to_datetime(df['date_of_birth'], errors='coerce')"
   ]
  },
  {
   "cell_type": "code",
   "execution_count": 12,
   "metadata": {},
   "outputs": [],
   "source": [
    "for col in datetime_columns:\n",
    "    df[col] = df[col].dt.tz_localize(\"UTC\", ambiguous='NaT', nonexistent='NaT')"
   ]
  },
  {
   "cell_type": "code",
   "execution_count": 13,
   "metadata": {},
   "outputs": [],
   "source": [
    "for col in datetime_columns:\n",
    "    df[col] = df[col].apply(convert_timestamp_to_string)"
   ]
  },
  {
   "cell_type": "code",
   "execution_count": 14,
   "metadata": {},
   "outputs": [],
   "source": [
    "data = df.to_dict(orient='records')"
   ]
  },
  {
   "cell_type": "markdown",
   "metadata": {},
   "source": [
    "## Upload Image + Return Public URL"
   ]
  },
  {
   "cell_type": "code",
   "execution_count": 15,
   "metadata": {},
   "outputs": [],
   "source": [
    "def download_file_from_google_drive(uid, photo_url):       \n",
    "    parsed_url = urlparse(photo_url)\n",
    "    query_params = parse_qs(parsed_url.query)\n",
    "    file_id = query_params['id'][0]\n",
    "    \n",
    "    URL = \"https://docs.google.com/uc?export=download&confirm=1\"\n",
    "\n",
    "    session = requests.Session()\n",
    "\n",
    "    response = session.get(URL, params={\"id\": file_id}, stream=True)\n",
    "    token = get_confirm_token(response)\n",
    "\n",
    "    if token:\n",
    "        params = {\"id\": file_id, \"confirm\": token}\n",
    "        response = session.get(URL, params=params, stream=True)\n",
    "\n",
    "    return save_response_content(uid, response)\n",
    "\n",
    "\n",
    "def get_confirm_token(response):\n",
    "    for key, value in response.cookies.items():\n",
    "        if key.startswith(\"download_warning\"):\n",
    "            return value\n",
    "\n",
    "    return None\n",
    "\n",
    "def save_response_content(uid, response):   \n",
    "    file_name = f\"{uid}.png\"  # Assuming the image format is JPEG\n",
    "    file_content = response.content\n",
    "    \n",
    "    try:\n",
    "        responseSupabase = supabase.storage.from_(\"members\").upload(file_name, file_content)\n",
    "        public_url = supabase.storage.from_(\"members\").get_public_url(file_name)\n",
    "        return public_url\n",
    "    except Exception as e:\n",
    "        print(e)\n"
   ]
  },
  {
   "cell_type": "markdown",
   "metadata": {},
   "source": [
    "## Upsert Users\n",
    "\n",
    "- Check for email existence in firebase auth, if it exists then update record in firestore\n",
    "- If email does not exist then create new user in firebase auth and then create new record in firestore with doc id = user.uid"
   ]
  },
  {
   "cell_type": "code",
   "execution_count": 16,
   "metadata": {},
   "outputs": [
    {
     "name": "stdout",
     "output_type": "stream",
     "text": [
      "User exists: gopi@fin1solutions.com (UID: MnEZWLNoTqXsSgvUSlH3Sr4I0A72). Updating record\n",
      "Successfully upserted record for email gopi@fin1solutions.com\n",
      "User exists: rtn.uma1505@gmail.com (UID: E3kekKeFkTNDdp6rgG6wtgFYmWY2). Updating record\n",
      "Successfully upserted record for email rtn.uma1505@gmail.com\n",
      "User exists: advocatesuresh763@yahoo.com (UID: 2DXGEuXDgdXBAAzRgnyLhCghD8D2). Updating record\n",
      "Successfully upserted record for email advocatesuresh763@yahoo.com\n",
      "User exists: rotaryclubsai@gmail.com (UID: Pntjifnvm5TmFVWpLvRRS5JRTEn1). Updating record\n",
      "Successfully upserted record for email rotaryclubsai@gmail.com\n",
      "User exists: bharatmpujara@gmail.com (UID: 6huDCteYDyfr2OXenMVVEQjMufs2). Updating record\n",
      "Successfully upserted record for email bharatmpujara@gmail.com\n",
      "User exists: sivailangovan@gmail.com (UID: ome8t3590fWIvbZgGZA3ZKWz7u43). Updating record\n",
      "Successfully upserted record for email sivailangovan@gmail.com\n",
      "User exists: palanivelghanesh@gmail.com (UID: 1Hhv2FiZpoQxojDWQWlCHzD6Cay1). Updating record\n",
      "Successfully upserted record for email palanivelghanesh@gmail.com\n",
      "User exists: santhasreni@gmail.com (UID: 2WwlG6BaUMMdL1aJ0LuIOweyvOl1). Updating record\n",
      "Successfully upserted record for email santhasreni@gmail.com\n",
      "User exists: ramsublpsrly@gmail.com (UID: iAghLbSgdiYv49aofHWzsF4I4ly1). Updating record\n",
      "Successfully upserted record for email ramsublpsrly@gmail.com\n",
      "User exists: sivakumar.sankaran14@gmail.com (UID: yzju7IpINyX3p0IFTMv1YaHmLyW2). Updating record\n",
      "Successfully upserted record for email sivakumar.sankaran14@gmail.com\n",
      "User exists: ramsublpsrly@gmail.com (UID: iAghLbSgdiYv49aofHWzsF4I4ly1). Updating record\n",
      "{'statusCode': 400, 'error': 'Duplicate', 'message': 'The resource already exists'}\n",
      "Successfully upserted record for email ramsublpsrly@gmail.com\n",
      "User exists: george@3230.org.in (UID: b73SKWmIEGORUHxXYNiOjvmULuR2). Updating record\n",
      "Successfully upserted record for email george@3230.org.in\n",
      "User exists: harish@outdeboxlife.com (UID: TM4qtrDgXTQvRZIb191jB7CrZpZ2). Updating record\n",
      "Successfully upserted record for email harish@outdeboxlife.com\n",
      "User exists: kamalaselvam@gmail.com (UID: EC5wnUFykZhNuvK0RV3SJ4tTxbI3). Updating record\n",
      "Successfully upserted record for email kamalaselvam@gmail.com\n"
     ]
    }
   ],
   "source": [
    "for user_data in data:\n",
    "    email = user_data.get(\"email\")\n",
    "    if not email:\n",
    "        print(\"Skipping record without email:\", user_data)\n",
    "        continue\n",
    "    \n",
    "    try:\n",
    "        # Check if user exists in Firebase Auth\n",
    "        user = auth.get_user_by_email(email)\n",
    "        print(f\"User exists: {email} (UID: {user.uid}). Updating record\")\n",
    "        \n",
    "        # Update Firestore record\n",
    "        user_data['id'] = user.uid\n",
    "        try:\n",
    "            public_url = download_file_from_google_drive(user_data['id'], user_data['photograph'])\n",
    "            user_data['photograph'] = public_url\n",
    "            # Upsert the record into Supabase\n",
    "            response = supabase.table(\"members\").upsert(user_data).execute()\n",
    "\n",
    "            if len(response.data) <= 0:\n",
    "                print(f\"Error while upserting record for email {email}: {response}\")\n",
    "            else:\n",
    "                print(f\"Successfully upserted record for email {email}\")\n",
    "\n",
    "        except Exception as e:\n",
    "            print(f\"An error occurred while processing email {email}: {str(e)}\")\n",
    "        \n",
    "    except auth.UserNotFoundError:\n",
    "        print(f\"User does not exist: {email}\")\n",
    "        \n",
    "        # Create new user in Firebase Auth\n",
    "        new_user = auth.create_user(email=email, password=email.split('@')[0] + '_password')\n",
    "        print(f\"Created new user: {email} (UID: {new_user.uid})\")\n",
    "        \n",
    "        # Create new Firestore record\n",
    "        user_data['id'] = user.uid\n",
    "        try:\n",
    "            public_url = download_file_from_google_drive(user_data['id'], user_data['photograph'])\n",
    "            user_data['photograph'] = public_url\n",
    "            \n",
    "            response = supabase.table(\"members\").upsert(user_data).execute()\n",
    "\n",
    "            if len(response.data) <= 0:\n",
    "                print(f\"Error while upserting record for email {email}: {response}\")\n",
    "            else:\n",
    "                print(f\"Successfully upserted record for email {email}\")\n",
    "\n",
    "        except Exception as e:\n",
    "            print(f\"An error occurred while processing email {email}: {str(e)}\")"
   ]
  }
 ],
 "metadata": {
  "kernelspec": {
   "display_name": ".venv",
   "language": "python",
   "name": "python3"
  },
  "language_info": {
   "codemirror_mode": {
    "name": "ipython",
    "version": 3
   },
   "file_extension": ".py",
   "mimetype": "text/x-python",
   "name": "python",
   "nbconvert_exporter": "python",
   "pygments_lexer": "ipython3",
   "version": "3.11.8"
  }
 },
 "nbformat": 4,
 "nbformat_minor": 2
}
