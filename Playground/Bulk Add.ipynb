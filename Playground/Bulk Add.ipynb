{
 "cells": [
  {
   "cell_type": "markdown",
   "metadata": {},
   "source": [
    "## Setup"
   ]
  },
  {
   "cell_type": "code",
   "execution_count": 1,
   "metadata": {},
   "outputs": [],
   "source": [
    "import firebase_admin\n",
    "from firebase_admin import credentials, firestore, auth\n",
    "import pandas as pd\n",
    "\n",
    "\n",
    "SERVICE_ACCOUNT_KEY = \"./../serviceAccountKey.json\"\n",
    "FILE_PATH = \"./../Documentation\\SETS Durbar 2025 - Secretaries Bio Data (Responses).xlsx\""
   ]
  },
  {
   "cell_type": "code",
   "execution_count": 2,
   "metadata": {},
   "outputs": [],
   "source": [
    "cred = credentials.Certificate(SERVICE_ACCOUNT_KEY)\n",
    "firebase_admin.initialize_app(cred)\n",
    "db = firestore.client()"
   ]
  },
  {
   "cell_type": "code",
   "execution_count": 5,
   "metadata": {},
   "outputs": [],
   "source": [
    "df = pd.read_excel(FILE_PATH)"
   ]
  },
  {
   "cell_type": "markdown",
   "metadata": {},
   "source": [
    "## Preprocess"
   ]
  },
  {
   "cell_type": "code",
   "execution_count": 6,
   "metadata": {},
   "outputs": [],
   "source": [
    "df.columns = df.columns.str.lower().str.strip().str.replace(' ', '_').str.replace(\"'\", \"\")\n",
    "df.rename(columns={\n",
    "    \"if_self-employed_:_business_name_/_if_salaried_:_company_name\": \"company_name\",\n",
    "    \"role_in_business_/_designation_in_company\": \"designation\",\n",
    "    \"full_name\": \"name\"}, inplace=True)\n",
    "df.drop(columns=['timestamp'], inplace=True)"
   ]
  },
  {
   "cell_type": "code",
   "execution_count": 8,
   "metadata": {},
   "outputs": [],
   "source": [
    "df[\"name_lower\"] = df[\"name\"].str.lower()\n",
    "df[\"company_name_lower\"] = df[\"company_name\"].str.lower()\n",
    "df[\"club_name_lower\"] = df[\"club_name\"].str.lower()\n",
    "df.fillna(\"\", inplace=True)"
   ]
  },
  {
   "cell_type": "code",
   "execution_count": 9,
   "metadata": {},
   "outputs": [
    {
     "data": {
      "text/plain": [
       "Index(['email_address', 'name', 'date_of_birth', 'sex', 'photograph',\n",
       "       'spouses_name', 'wedding_anniversary', 'phone', 'email', 'club_name',\n",
       "       'rotarian_since', 'rotary_foundation_title', 'residential_address',\n",
       "       'company_name', 'designation', 'type_of_business', 'business_address',\n",
       "       'business_website', 'about_your_business', 'emergency_contact_name',\n",
       "       'emergency_contact_relationship', 'emergency_contact_phone',\n",
       "       't_shirt_size', 'shirt_size', 'meal_preference', 'name_lower',\n",
       "       'company_name_lower', 'club_name_lower'],\n",
       "      dtype='object')"
      ]
     },
     "execution_count": 9,
     "metadata": {},
     "output_type": "execute_result"
    }
   ],
   "source": [
    "df.columns"
   ]
  },
  {
   "cell_type": "code",
   "execution_count": 10,
   "metadata": {},
   "outputs": [],
   "source": [
    "data = df.to_dict(orient='records')"
   ]
  },
  {
   "cell_type": "code",
   "execution_count": null,
   "metadata": {},
   "outputs": [],
   "source": []
  },
  {
   "cell_type": "markdown",
   "metadata": {},
   "source": [
    "## Upsert Users\n",
    "\n",
    "- Check for email existence in firebase auth, if it exists then update record in firestore\n",
    "- If email does not exist then create new user in firebase auth and then create new record in firestore with doc id = user.uid"
   ]
  },
  {
   "cell_type": "code",
   "execution_count": 11,
   "metadata": {},
   "outputs": [
    {
     "name": "stdout",
     "output_type": "stream",
     "text": [
      "User exists: deepan_90@live.com (UID: pjgqrIvzbhXBAHx0WM1qxT4M1va2). Updating record\n",
      "User exists: rrssbl@gmail.com (UID: Itl7GUp6bQW5jOuGVfHq2op9col2). Updating record\n",
      "User exists: arunmahadevan@hotmail.com (UID: wYCW25rYsbRqtANt7gAc7vjqNxh2). Updating record\n",
      "User exists: ravi.padmanaban@gmail.com (UID: Dz2YEaWJx5Xth7dfJVkJV9AqBWs2). Updating record\n",
      "User exists: sanjusuresh@mgrjanaki.ac.in (UID: 48ywCUWkqnP7IwVM3StBztjZ1Ar1). Updating record\n",
      "User exists: umamahes03@gmail.com (UID: o7TUgcOfifPfHHBAOqlGfyxXXyk2). Updating record\n",
      "User exists: vichandrasekar@gmail.com (UID: Ln4aDPzY4NatD8dx6wwXqysN7xG3). Updating record\n",
      "User exists: mv.karthick@yahoo.com (UID: f4Xuy2P6qBbKnMnwEVg3sPLv28i2). Updating record\n",
      "User exists: indira.gautam@gmail.com (UID: H1OEHEHxMzdIbhmMOjUdUYJ6cRr2). Updating record\n",
      "User exists: ganeshsivam76@gmail.com (UID: OycsL7BkHcgMhrcxGzoGDJ6Nvk53). Updating record\n",
      "User exists: shoba.rebecca@gmail.com (UID: oknv5vP2wAZKVO94zxHoKD1ZYSJ3). Updating record\n",
      "User exists: thirumalaivasan.vasan@gmail.com (UID: 88IZ12up0kYsw9jbyvLaMZ3qjOm1). Updating record\n",
      "User exists: monica.sundaram@gmail.com (UID: sbI1c2UYhFTALvFpEtyZNdva7sj2). Updating record\n",
      "User exists: palanithiagu@gmail.com (UID: hMgLtuNVZiMJj39xzfk5HRryBZC3). Updating record\n",
      "User exists: rcantony@gmail.com (UID: EU1O3wRX8UfVa7fs0CpYev9eBsc2). Updating record\n",
      "User exists: TEST!@TEST.COM (UID: KS4jcqZLKUZtxMtqHTQQZVbJslI2). Updating record\n",
      "User exists: bhav007@gmail.com (UID: p3aMHyD6kBbXJgUTrQhSwXqj2aU2). Updating record\n",
      "User exists: sunithabava@gmail.com (UID: LZ4jm3omvkNvJr3eZRMLhVVWZhf1). Updating record\n",
      "User exists: Sibirajan@gmail.com (UID: ztxsVgO1GNVrag5vlTWsjkifWKw2). Updating record\n",
      "User exists: palanithiagu@gmail.com (UID: hMgLtuNVZiMJj39xzfk5HRryBZC3). Updating record\n",
      "User exists: athmanhealingcenter@gmail.com (UID: ILsuGATnXVgN47x206nROOgqtkt2). Updating record\n",
      "User exists: binny@arritevents.com (UID: BkbZgO799LPNkfCOHC8FGmKjSv12). Updating record\n",
      "User exists: raj.ramadurai@hourglassit.com (UID: seQ1dZfgCfTmey7HKQ7d5LZLcNe2). Updating record\n",
      "User exists: krameshananth@gmail.com (UID: BTJIm3mZ7yeCPJwrnRuhSeouWaF3). Updating record\n",
      "User exists: meena.sathish2409@gmail.com (UID: SmOfGYOQgsUA2AT0kcCwj70mxlb2). Updating record\n"
     ]
    }
   ],
   "source": [
    "for user_data in data:\n",
    "    email = user_data.get(\"email\")\n",
    "    if not email:\n",
    "        print(\"Skipping record without email:\", user_data)\n",
    "        continue\n",
    "    \n",
    "    try:\n",
    "        # Check if user exists in Firebase Auth\n",
    "        user = auth.get_user_by_email(email)\n",
    "        print(f\"User exists: {email} (UID: {user.uid}). Updating record\")\n",
    "        \n",
    "        # Update Firestore record\n",
    "        doc_ref = db.collection(\"users\").document(user.uid)\n",
    "        doc_ref.set(user_data | {\"role\": \"member\", \"support\": False}, merge=True)  # `merge=True` updates the document\n",
    "        \n",
    "    except auth.UserNotFoundError:\n",
    "        print(f\"User does not exist: {email}\")\n",
    "        \n",
    "        # Create new user in Firebase Auth\n",
    "        new_user = auth.create_user(email=email, password=email.split('@')[0] + '_password')\n",
    "        print(f\"Created new user: {email} (UID: {new_user.uid})\")\n",
    "        \n",
    "        # Create new Firestore record\n",
    "        doc_ref = db.collection(\"users\").document(new_user.uid)\n",
    "        doc_ref.set(user_data | {\"role\": \"member\", \"support\": False})"
   ]
  }
 ],
 "metadata": {
  "kernelspec": {
   "display_name": ".venv",
   "language": "python",
   "name": "python3"
  },
  "language_info": {
   "codemirror_mode": {
    "name": "ipython",
    "version": 3
   },
   "file_extension": ".py",
   "mimetype": "text/x-python",
   "name": "python",
   "nbconvert_exporter": "python",
   "pygments_lexer": "ipython3",
   "version": "3.11.8"
  }
 },
 "nbformat": 4,
 "nbformat_minor": 2
}
