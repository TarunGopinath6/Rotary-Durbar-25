{
 "cells": [
  {
   "cell_type": "markdown",
   "metadata": {},
   "source": [
    "## Setup"
   ]
  },
  {
   "cell_type": "code",
   "execution_count": 1,
   "metadata": {},
   "outputs": [
    {
     "data": {
      "text/plain": [
       "True"
      ]
     },
     "execution_count": 1,
     "metadata": {},
     "output_type": "execute_result"
    }
   ],
   "source": [
    "import firebase_admin\n",
    "from firebase_admin import credentials, firestore, auth\n",
    "from supabase import create_client, Client\n",
    "import pandas as pd\n",
    "import dotenv\n",
    "import os\n",
    "import uuid\n",
    "from datetime import datetime, timezone\n",
    "\n",
    "\n",
    "SERVICE_ACCOUNT_KEY = \"./../serviceAccountKey.json\"\n",
    "FILE_PATH = \"./../Documentation\\SETS Team, RS, District Officers - SETS Dubar 2025 (Responses).xlsx\"\n",
    "\n",
    "dotenv.load_dotenv()"
   ]
  },
  {
   "cell_type": "code",
   "execution_count": 2,
   "metadata": {},
   "outputs": [],
   "source": [
    "cred = credentials.Certificate(SERVICE_ACCOUNT_KEY)\n",
    "firebase_admin.initialize_app(cred)\n",
    "db = firestore.client()\n",
    "supabase = create_client(os.getenv('EXPO_PUBLIC_SUPABASE_URL'), os.getenv('EXPO_PUBLIC_SUPABASE_ANON_KEY'))"
   ]
  },
  {
   "cell_type": "code",
   "execution_count": 37,
   "metadata": {},
   "outputs": [],
   "source": [
    "df = pd.read_excel(FILE_PATH)"
   ]
  },
  {
   "cell_type": "markdown",
   "metadata": {},
   "source": [
    "## Preprocess"
   ]
  },
  {
   "cell_type": "code",
   "execution_count": 38,
   "metadata": {},
   "outputs": [
    {
     "data": {
      "text/html": [
       "<div>\n",
       "<style scoped>\n",
       "    .dataframe tbody tr th:only-of-type {\n",
       "        vertical-align: middle;\n",
       "    }\n",
       "\n",
       "    .dataframe tbody tr th {\n",
       "        vertical-align: top;\n",
       "    }\n",
       "\n",
       "    .dataframe thead th {\n",
       "        text-align: right;\n",
       "    }\n",
       "</style>\n",
       "<table border=\"1\" class=\"dataframe\">\n",
       "  <thead>\n",
       "    <tr style=\"text-align: right;\">\n",
       "      <th></th>\n",
       "      <th>Timestamp</th>\n",
       "      <th>Email address</th>\n",
       "      <th>Full Name</th>\n",
       "      <th>Affiliation</th>\n",
       "      <th>Designation</th>\n",
       "      <th>Date of Birth</th>\n",
       "      <th>Sex</th>\n",
       "      <th>Photograph</th>\n",
       "      <th>Spouse's Name</th>\n",
       "      <th>Wedding Anniversary</th>\n",
       "      <th>...</th>\n",
       "      <th>Type of Business</th>\n",
       "      <th>Business Address</th>\n",
       "      <th>Business Website</th>\n",
       "      <th>About your business</th>\n",
       "      <th>Emergency Contact Name</th>\n",
       "      <th>Emergency Contact Relationship</th>\n",
       "      <th>Emergency Contact Phone</th>\n",
       "      <th>T Shirt Size</th>\n",
       "      <th>Shirt Size</th>\n",
       "      <th>Meal Preference</th>\n",
       "    </tr>\n",
       "  </thead>\n",
       "  <tbody>\n",
       "    <tr>\n",
       "      <th>0</th>\n",
       "      <td>2024-12-19 10:03:04.673</td>\n",
       "      <td>gopi@fin1solutions.com</td>\n",
       "      <td>R GOPINATH</td>\n",
       "      <td>SETS Team</td>\n",
       "      <td>SETS SECRETARY</td>\n",
       "      <td>1972-02-25</td>\n",
       "      <td>Male</td>\n",
       "      <td>https://drive.google.com/open?id=18w_j4W8cQtuI...</td>\n",
       "      <td>VIJAYALAKSHMI</td>\n",
       "      <td>1998-11-02</td>\n",
       "      <td>...</td>\n",
       "      <td>Financial Services</td>\n",
       "      <td>NO 264 B BLOCK FLAT NO 4 ANBUR COLONY ANNA NAG...</td>\n",
       "      <td>www.fin1solutions.com</td>\n",
       "      <td>Fin 1 Solutions is a DSA for HDFC Bank for the...</td>\n",
       "      <td>TARUN GOPINATH</td>\n",
       "      <td>SON</td>\n",
       "      <td>7358543242</td>\n",
       "      <td>L</td>\n",
       "      <td>42</td>\n",
       "      <td>Non-Vegetarian</td>\n",
       "    </tr>\n",
       "    <tr>\n",
       "      <th>1</th>\n",
       "      <td>2024-12-26 19:22:13.109</td>\n",
       "      <td>rtn.uma1505@gmail.com</td>\n",
       "      <td>Rtn. Uma Yuvaraj</td>\n",
       "      <td>SETS Team</td>\n",
       "      <td>Ex AG</td>\n",
       "      <td>1980-05-15</td>\n",
       "      <td>Female</td>\n",
       "      <td>https://drive.google.com/open?id=1_zb_c7fblsNC...</td>\n",
       "      <td>Rtn. Yuvaraj</td>\n",
       "      <td>2020-03-24</td>\n",
       "      <td>...</td>\n",
       "      <td>Health and Wellness</td>\n",
       "      <td>.</td>\n",
       "      <td>notapplicable.com</td>\n",
       "      <td>..</td>\n",
       "      <td>Yuvaraj</td>\n",
       "      <td>Spouse</td>\n",
       "      <td>9361455621</td>\n",
       "      <td>M</td>\n",
       "      <td>0</td>\n",
       "      <td>Vegetarian</td>\n",
       "    </tr>\n",
       "    <tr>\n",
       "      <th>2</th>\n",
       "      <td>2024-12-26 19:35:50.786</td>\n",
       "      <td>advocatesuresh763@gmail.com</td>\n",
       "      <td>Sureshselvakumar</td>\n",
       "      <td>SETS Team</td>\n",
       "      <td>President</td>\n",
       "      <td>1965-05-31</td>\n",
       "      <td>Male</td>\n",
       "      <td>https://drive.google.com/open?id=1Yrt2omdhAWWu...</td>\n",
       "      <td>Subbulakshmi</td>\n",
       "      <td>1965-05-31</td>\n",
       "      <td>...</td>\n",
       "      <td>Legal services</td>\n",
       "      <td>FOM, 4 th floor, Jain citadel Apartment, Justi...</td>\n",
       "      <td>NaN</td>\n",
       "      <td>My father is retired Judge, I handle all type ...</td>\n",
       "      <td>Subbulakshmi</td>\n",
       "      <td>Wife</td>\n",
       "      <td>9790708712</td>\n",
       "      <td>XXXL</td>\n",
       "      <td>48</td>\n",
       "      <td>Non-Vegetarian</td>\n",
       "    </tr>\n",
       "    <tr>\n",
       "      <th>3</th>\n",
       "      <td>2024-12-26 19:38:22.354</td>\n",
       "      <td>nokiasai@gmail.com</td>\n",
       "      <td>M Sesha Sai</td>\n",
       "      <td>SETS Team</td>\n",
       "      <td>DRCC</td>\n",
       "      <td>1965-08-22</td>\n",
       "      <td>Male</td>\n",
       "      <td>https://drive.google.com/open?id=1dK5I2dsGoxeW...</td>\n",
       "      <td>M Kamala</td>\n",
       "      <td>1989-05-19</td>\n",
       "      <td>...</td>\n",
       "      <td>Agriculture and Farming</td>\n",
       "      <td>62 Veerabhadran street. Nungambakkam. Chennai ...</td>\n",
       "      <td>www.farmguru.org</td>\n",
       "      <td>Farm Guru is a social initiative that educates...</td>\n",
       "      <td>M Kamala</td>\n",
       "      <td>Wife</td>\n",
       "      <td>9840546655</td>\n",
       "      <td>L</td>\n",
       "      <td>42</td>\n",
       "      <td>Non-Vegetarian</td>\n",
       "    </tr>\n",
       "    <tr>\n",
       "      <th>4</th>\n",
       "      <td>2024-12-27 11:10:49.283</td>\n",
       "      <td>bharatmpujara@gmail.com</td>\n",
       "      <td>Bharat  Pujara</td>\n",
       "      <td>SETS Team</td>\n",
       "      <td>Chairman</td>\n",
       "      <td>1955-04-15</td>\n",
       "      <td>Male</td>\n",
       "      <td>https://drive.google.com/open?id=1wZj4WhcrnMn1...</td>\n",
       "      <td>Bharati pujara</td>\n",
       "      <td>1976-02-07</td>\n",
       "      <td>...</td>\n",
       "      <td>Paper Recycling</td>\n",
       "      <td>6/7 5th street T K salai Mylapore Chennai 600004</td>\n",
       "      <td>NaN</td>\n",
       "      <td>Suppling Raw material to paper mills for Recyc...</td>\n",
       "      <td>Bharati Pujara</td>\n",
       "      <td>Wife</td>\n",
       "      <td>9840938880</td>\n",
       "      <td>XXXL</td>\n",
       "      <td>50</td>\n",
       "      <td>Vegetarian</td>\n",
       "    </tr>\n",
       "    <tr>\n",
       "      <th>5</th>\n",
       "      <td>2024-12-27 12:55:52.213</td>\n",
       "      <td>sivailangovan@gmail.com</td>\n",
       "      <td>Siva Ilangovan</td>\n",
       "      <td>SETS Team</td>\n",
       "      <td>Co Chairman</td>\n",
       "      <td>1967-06-10</td>\n",
       "      <td>Male</td>\n",
       "      <td>https://drive.google.com/open?id=1HtZeulncNUBn...</td>\n",
       "      <td>Geetha</td>\n",
       "      <td>1996-05-19</td>\n",
       "      <td>...</td>\n",
       "      <td>Industrial Air conditioning - HVAC Cleanroom s...</td>\n",
       "      <td>C1, Swathy Nest, 16/3, Poonamallee High Road, ...</td>\n",
       "      <td>NaN</td>\n",
       "      <td>Design, construction and contracting of HVAC s...</td>\n",
       "      <td>Geetha</td>\n",
       "      <td>Spouse</td>\n",
       "      <td>9840166223</td>\n",
       "      <td>XL</td>\n",
       "      <td>42</td>\n",
       "      <td>Non-Vegetarian</td>\n",
       "    </tr>\n",
       "  </tbody>\n",
       "</table>\n",
       "<p>6 rows × 28 columns</p>\n",
       "</div>"
      ],
      "text/plain": [
       "                Timestamp                Email address          Full Name  \\\n",
       "0 2024-12-19 10:03:04.673       gopi@fin1solutions.com         R GOPINATH   \n",
       "1 2024-12-26 19:22:13.109        rtn.uma1505@gmail.com   Rtn. Uma Yuvaraj   \n",
       "2 2024-12-26 19:35:50.786  advocatesuresh763@gmail.com  Sureshselvakumar    \n",
       "3 2024-12-26 19:38:22.354           nokiasai@gmail.com        M Sesha Sai   \n",
       "4 2024-12-27 11:10:49.283      bharatmpujara@gmail.com    Bharat  Pujara    \n",
       "5 2024-12-27 12:55:52.213      sivailangovan@gmail.com    Siva Ilangovan    \n",
       "\n",
       "  Affiliation     Designation Date of Birth     Sex  \\\n",
       "0   SETS Team  SETS SECRETARY    1972-02-25    Male   \n",
       "1   SETS Team           Ex AG    1980-05-15  Female   \n",
       "2   SETS Team      President     1965-05-31    Male   \n",
       "3   SETS Team            DRCC    1965-08-22    Male   \n",
       "4   SETS Team       Chairman     1955-04-15    Male   \n",
       "5   SETS Team    Co Chairman     1967-06-10    Male   \n",
       "\n",
       "                                          Photograph   Spouse's Name  \\\n",
       "0  https://drive.google.com/open?id=18w_j4W8cQtuI...   VIJAYALAKSHMI   \n",
       "1  https://drive.google.com/open?id=1_zb_c7fblsNC...   Rtn. Yuvaraj    \n",
       "2  https://drive.google.com/open?id=1Yrt2omdhAWWu...   Subbulakshmi    \n",
       "3  https://drive.google.com/open?id=1dK5I2dsGoxeW...        M Kamala   \n",
       "4  https://drive.google.com/open?id=1wZj4WhcrnMn1...  Bharati pujara   \n",
       "5  https://drive.google.com/open?id=1HtZeulncNUBn...          Geetha   \n",
       "\n",
       "  Wedding Anniversary  ...                                   Type of Business  \\\n",
       "0          1998-11-02  ...                                 Financial Services   \n",
       "1          2020-03-24  ...                                Health and Wellness   \n",
       "2          1965-05-31  ...                                    Legal services    \n",
       "3          1989-05-19  ...                            Agriculture and Farming   \n",
       "4          1976-02-07  ...                                   Paper Recycling    \n",
       "5          1996-05-19  ...  Industrial Air conditioning - HVAC Cleanroom s...   \n",
       "\n",
       "                                    Business Address       Business Website  \\\n",
       "0  NO 264 B BLOCK FLAT NO 4 ANBUR COLONY ANNA NAG...  www.fin1solutions.com   \n",
       "1                                                  .      notapplicable.com   \n",
       "2  FOM, 4 th floor, Jain citadel Apartment, Justi...                    NaN   \n",
       "3  62 Veerabhadran street. Nungambakkam. Chennai ...       www.farmguru.org   \n",
       "4   6/7 5th street T K salai Mylapore Chennai 600004                    NaN   \n",
       "5  C1, Swathy Nest, 16/3, Poonamallee High Road, ...                    NaN   \n",
       "\n",
       "                                 About your business Emergency Contact Name  \\\n",
       "0  Fin 1 Solutions is a DSA for HDFC Bank for the...         TARUN GOPINATH   \n",
       "1                                                 ..               Yuvaraj    \n",
       "2  My father is retired Judge, I handle all type ...          Subbulakshmi    \n",
       "3  Farm Guru is a social initiative that educates...              M Kamala    \n",
       "4  Suppling Raw material to paper mills for Recyc...        Bharati Pujara    \n",
       "5  Design, construction and contracting of HVAC s...                 Geetha   \n",
       "\n",
       "  Emergency Contact Relationship Emergency Contact Phone T Shirt Size  \\\n",
       "0                            SON              7358543242            L   \n",
       "1                        Spouse               9361455621            M   \n",
       "2                           Wife              9790708712         XXXL   \n",
       "3                           Wife              9840546655            L   \n",
       "4                          Wife               9840938880         XXXL   \n",
       "5                        Spouse               9840166223           XL   \n",
       "\n",
       "  Shirt Size Meal Preference  \n",
       "0         42  Non-Vegetarian  \n",
       "1          0      Vegetarian  \n",
       "2         48  Non-Vegetarian  \n",
       "3         42  Non-Vegetarian  \n",
       "4         50      Vegetarian  \n",
       "5         42  Non-Vegetarian  \n",
       "\n",
       "[6 rows x 28 columns]"
      ]
     },
     "execution_count": 38,
     "metadata": {},
     "output_type": "execute_result"
    }
   ],
   "source": [
    "df"
   ]
  },
  {
   "cell_type": "code",
   "execution_count": 39,
   "metadata": {},
   "outputs": [],
   "source": [
    "df.columns = df.columns.str.lower().str.strip().str.replace(' ', '_').str.replace(\"'\", \"\")\n",
    "df.rename(columns={\n",
    "    \"if_self-employed_:_business_name_/_if_salaried_:_company_name\": \"company_name\",\n",
    "    \"designation\": \"sets_designation\",\n",
    "    \"role_in_business_/_designation_in_company\": \"designation\",\n",
    "    \"full_name\": \"name\"}, inplace=True)\n",
    "df.drop(columns=['timestamp'], inplace=True)"
   ]
  },
  {
   "cell_type": "code",
   "execution_count": 40,
   "metadata": {},
   "outputs": [],
   "source": [
    "df[\"name_lower\"] = df[\"name\"].str.lower()\n",
    "df[\"company_name_lower\"] = df[\"company_name\"].str.lower()\n",
    "df[\"club_name_lower\"] = df[\"club_name\"].str.lower()\n",
    "df[\"priority\"] = 0\n",
    "df['role'] = \"member\"\n",
    "df[\"support\"] = True\n",
    "df.fillna(\"\", inplace=True)"
   ]
  },
  {
   "cell_type": "code",
   "execution_count": 41,
   "metadata": {},
   "outputs": [],
   "source": [
    "def convert_timestamp_to_string(timestamp):\n",
    "    if isinstance(timestamp, datetime):\n",
    "        if timestamp.tzinfo is None:  # Check if the timestamp is naive\n",
    "            timestamp = timestamp.replace(tzinfo=timezone.utc)\n",
    "        else:\n",
    "            timestamp = timestamp.astimezone(timezone.utc)\n",
    "    formatted_string = timestamp.strftime('%Y-%m-%d %H:%M:%S%z')\n",
    "    if formatted_string.endswith(\"+0000\"):\n",
    "        formatted_string = formatted_string[:-2] + \":00\"\n",
    "    return formatted_string"
   ]
  },
  {
   "cell_type": "code",
   "execution_count": 42,
   "metadata": {},
   "outputs": [
    {
     "data": {
      "text/plain": [
       "Index(['email_address', 'name', 'affiliation', 'sets_designation',\n",
       "       'date_of_birth', 'sex', 'photograph', 'spouses_name',\n",
       "       'wedding_anniversary', 'phone', 'email', 'club_name', 'rotarian_since',\n",
       "       'rotary_foundation_title', 'residential_address', 'company_name',\n",
       "       'designation', 'type_of_business', 'business_address',\n",
       "       'business_website', 'about_your_business', 'emergency_contact_name',\n",
       "       'emergency_contact_relationship', 'emergency_contact_phone',\n",
       "       't_shirt_size', 'shirt_size', 'meal_preference', 'name_lower',\n",
       "       'company_name_lower', 'club_name_lower', 'priority', 'role', 'support'],\n",
       "      dtype='object')"
      ]
     },
     "execution_count": 42,
     "metadata": {},
     "output_type": "execute_result"
    }
   ],
   "source": [
    "df.columns"
   ]
  },
  {
   "cell_type": "code",
   "execution_count": 43,
   "metadata": {},
   "outputs": [],
   "source": [
    "datetime_columns = df.select_dtypes(include=[\"datetime64[ns]\", \"datetime64[ns, UTC]\"]).columns"
   ]
  },
  {
   "cell_type": "code",
   "execution_count": 44,
   "metadata": {},
   "outputs": [
    {
     "data": {
      "text/plain": [
       "Index(['date_of_birth', 'wedding_anniversary'], dtype='object')"
      ]
     },
     "execution_count": 44,
     "metadata": {},
     "output_type": "execute_result"
    }
   ],
   "source": [
    "datetime_columns"
   ]
  },
  {
   "cell_type": "code",
   "execution_count": 45,
   "metadata": {},
   "outputs": [],
   "source": [
    "for col in datetime_columns:\n",
    "    df[col] = df[col].dt.tz_localize(\"UTC\", ambiguous=\"NaT\", nonexistent=\"NaT\")"
   ]
  },
  {
   "cell_type": "code",
   "execution_count": 46,
   "metadata": {},
   "outputs": [],
   "source": [
    "for col in datetime_columns:\n",
    "    df[col] = df[col].apply(convert_timestamp_to_string)"
   ]
  },
  {
   "cell_type": "code",
   "execution_count": 47,
   "metadata": {},
   "outputs": [],
   "source": [
    "data = df.to_dict(orient='records')"
   ]
  },
  {
   "cell_type": "markdown",
   "metadata": {},
   "source": [
    "## Upsert Users\n",
    "\n",
    "- Check for email existence in firebase auth, if it exists then update record in firestore\n",
    "- If email does not exist then create new user in firebase auth and then create new record in firestore with doc id = user.uid"
   ]
  },
  {
   "cell_type": "code",
   "execution_count": 50,
   "metadata": {},
   "outputs": [
    {
     "name": "stdout",
     "output_type": "stream",
     "text": [
      "User exists: gopi@fin1solutions.com (UID: MnEZWLNoTqXsSgvUSlH3Sr4I0A72). Updating record\n",
      "An error occurred while processing email gopi@fin1solutions.com: 'APIResponse[~_ReturnT]' object has no attribute 'error'\n",
      "User exists: rtn.uma1505@gmail.com (UID: E3kekKeFkTNDdp6rgG6wtgFYmWY2). Updating record\n",
      "An error occurred while processing email rtn.uma1505@gmail.com: 'APIResponse[~_ReturnT]' object has no attribute 'error'\n",
      "User exists: advocatesuresh763@yahoo.com (UID: 2DXGEuXDgdXBAAzRgnyLhCghD8D2). Updating record\n",
      "An error occurred while processing email advocatesuresh763@yahoo.com: 'APIResponse[~_ReturnT]' object has no attribute 'error'\n",
      "User exists: rotaryclubsai@gmail.com (UID: Pntjifnvm5TmFVWpLvRRS5JRTEn1). Updating record\n",
      "An error occurred while processing email rotaryclubsai@gmail.com: 'APIResponse[~_ReturnT]' object has no attribute 'error'\n",
      "User exists: bharatmpujara@gmail.com (UID: 6huDCteYDyfr2OXenMVVEQjMufs2). Updating record\n",
      "An error occurred while processing email bharatmpujara@gmail.com: 'APIResponse[~_ReturnT]' object has no attribute 'error'\n",
      "User exists: sivailangovan@gmail.com (UID: ome8t3590fWIvbZgGZA3ZKWz7u43). Updating record\n",
      "An error occurred while processing email sivailangovan@gmail.com: 'APIResponse[~_ReturnT]' object has no attribute 'error'\n"
     ]
    }
   ],
   "source": [
    "for user_data in data:\n",
    "    email = user_data.get(\"email\")\n",
    "    if not email:\n",
    "        print(\"Skipping record without email:\", user_data)\n",
    "        continue\n",
    "    \n",
    "    try:\n",
    "        # Check if user exists in Firebase Auth\n",
    "        user = auth.get_user_by_email(email)\n",
    "        print(f\"User exists: {email} (UID: {user.uid}). Updating record\")\n",
    "        \n",
    "        # Update Firestore record\n",
    "        user_data['id'] = user.uid\n",
    "        try:\n",
    "            # Upsert the record into Supabase\n",
    "            response = supabase.table(\"members\").upsert(user_data).execute()\n",
    "\n",
    "            if response.error:\n",
    "                print(f\"Error while upserting record for email {email}: {response.error.message}\")\n",
    "            else:\n",
    "                print(f\"Successfully upserted record for email {email}\")\n",
    "\n",
    "        except Exception as e:\n",
    "            print(f\"An error occurred while processing email {email}: {str(e)}\")\n",
    "        \n",
    "    except auth.UserNotFoundError:\n",
    "        print(f\"User does not exist: {email}\")\n",
    "        \n",
    "        # Create new user in Firebase Auth\n",
    "        new_user = auth.create_user(email=email, password=email.split('@')[0] + '_password')\n",
    "        print(f\"Created new user: {email} (UID: {new_user.uid})\")\n",
    "        \n",
    "        # Create new Firestore record\n",
    "        user_data['id'] = user.uid\n",
    "        try:\n",
    "        # Upsert the record into Supabase\n",
    "            response = supabase.table(\"members\").upsert(user_data).execute()\n",
    "\n",
    "            if response.error:\n",
    "                print(f\"Error while upserting record for email {email}: {response.error.message}\")\n",
    "            else:\n",
    "                print(f\"Successfully upserted record for email {email}\")\n",
    "\n",
    "        except Exception as e:\n",
    "            print(f\"An error occurred while processing email {email}: {str(e)}\")"
   ]
  },
  {
   "cell_type": "code",
   "execution_count": 3,
   "metadata": {},
   "outputs": [],
   "source": [
    "records = [\n",
    "    {\n",
    "        \"user_id\": \"EU1O3wRX8UfVa7fs0CpYev9eBsc2\",\n",
    "        \"itinerary_id\": \"eIO1lSRwFdmgCtvOC3PX\",\n",
    "        \"comment\": \"A very informative session with practical tips for new and experienced secretaries alike.\"\n",
    "    },\n",
    "    {\n",
    "        \"user_id\": \"wYCW25rYsbRqtANt7gAc7vjqNxh2\",\n",
    "        \"itinerary_id\": \"eIO1lSRwFdmgCtvOC3PX\",\n",
    "        \"comment\": \"The training provided great insight into the responsibilities of a Rotary secretary.\"\n",
    "    },\n",
    "    {\n",
    "        \"user_id\": \"6huDCteYDyfr2OXenMVVEQjMufs2\",\n",
    "        \"itinerary_id\": \"eIO1lSRwFdmgCtvOC3PX\",\n",
    "        \"comment\": \"I learned a lot about the importance of communication and organization within the club.\"\n",
    "    },\n",
    "    {\n",
    "        \"user_id\": \"EU1O3wRX8UfVa7fs0CpYev9eBsc2\",\n",
    "        \"itinerary_id\": \"6AsZlajvoMCNd3M46M7c\",\n",
    "        \"comment\": \"The seminar covered everything I needed to know about managing club records and meetings.\"\n",
    "    },\n",
    "    {\n",
    "        \"user_id\": \"wYCW25rYsbRqtANt7gAc7vjqNxh2\",\n",
    "        \"itinerary_id\": \"6AsZlajvoMCNd3M46M7c\",\n",
    "        \"comment\": \"It was a valuable experience— I now feel much more confident in my role as a Rotary secretary.\"\n",
    "    },\n",
    "    {\n",
    "        \"user_id\": \"6huDCteYDyfr2OXenMVVEQjMufs2\",\n",
    "        \"itinerary_id\": \"6AsZlajvoMCNd3M46M7c\",\n",
    "        \"comment\": \"Great content and helpful resources to guide me through the administrative duties of the club.\"\n",
    "    },\n",
    "    {\n",
    "        \"user_id\": \"EU1O3wRX8UfVa7fs0CpYev9eBsc2\",\n",
    "        \"itinerary_id\": \"G6GVSJRWuz4R21R68h4R\",\n",
    "        \"comment\": \"The speakers were knowledgeable and provided clear, actionable advice.\"\n",
    "    },\n",
    "    {\n",
    "        \"user_id\": \"wYCW25rYsbRqtANt7gAc7vjqNxh2\",\n",
    "        \"itinerary_id\": \"G6GVSJRWuz4R21R68h4R\",\n",
    "        \"comment\": \"I appreciated the opportunity to connect with other Rotary secretaries and share best practices.\"\n",
    "    },\n",
    "    {\n",
    "        \"user_id\": \"6huDCteYDyfr2OXenMVVEQjMufs2\",\n",
    "        \"itinerary_id\": \"G6GVSJRWuz4R21R68h4R\",\n",
    "        \"comment\": \"The session on club reporting and recordkeeping was especially useful.\"\n",
    "    },\n",
    "    {\n",
    "        \"user_id\": \"EU1O3wRX8UfVa7fs0CpYev9eBsc2\",\n",
    "        \"itinerary_id\": \"MJCMsw4ajERwm2qmNzvD\",\n",
    "        \"comment\": \"Excellent overview of the Rotary Secretary role, from handling correspondence to managing agendas.\"\n",
    "    },\n",
    "    {\n",
    "        \"user_id\": \"wYCW25rYsbRqtANt7gAc7vjqNxh2\",\n",
    "        \"itinerary_id\": \"MJCMsw4ajERwm2qmNzvD\",\n",
    "        \"comment\": \"The hands-on exercises gave me a better understanding of the tools available for managing club operations.\"\n",
    "    },\n",
    "    {\n",
    "        \"user_id\": \"6huDCteYDyfr2OXenMVVEQjMufs2\",\n",
    "        \"itinerary_id\": \"MJCMsw4ajERwm2qmNzvD\",\n",
    "        \"comment\": \"I found the tips on effective meeting minutes and communication particularly helpful.\"\n",
    "    }\n",
    "]\n"
   ]
  },
  {
   "cell_type": "code",
   "execution_count": 4,
   "metadata": {},
   "outputs": [
    {
     "data": {
      "text/plain": [
       "APIResponse[~_ReturnT](data=[{'id': 27, 'comment': 'A very informative session with practical tips for new and experienced secretaries alike.', 'itinerary_id': 'eIO1lSRwFdmgCtvOC3PX', 'user_id': 'EU1O3wRX8UfVa7fs0CpYev9eBsc2', 'created_at': '2024-12-31T07:11:21.127422+00:00'}, {'id': 28, 'comment': 'The training provided great insight into the responsibilities of a Rotary secretary.', 'itinerary_id': 'eIO1lSRwFdmgCtvOC3PX', 'user_id': 'wYCW25rYsbRqtANt7gAc7vjqNxh2', 'created_at': '2024-12-31T07:11:21.127422+00:00'}, {'id': 29, 'comment': 'I learned a lot about the importance of communication and organization within the club.', 'itinerary_id': 'eIO1lSRwFdmgCtvOC3PX', 'user_id': '6huDCteYDyfr2OXenMVVEQjMufs2', 'created_at': '2024-12-31T07:11:21.127422+00:00'}, {'id': 30, 'comment': 'The seminar covered everything I needed to know about managing club records and meetings.', 'itinerary_id': '6AsZlajvoMCNd3M46M7c', 'user_id': 'EU1O3wRX8UfVa7fs0CpYev9eBsc2', 'created_at': '2024-12-31T07:11:21.127422+00:00'}, {'id': 31, 'comment': 'It was a valuable experience— I now feel much more confident in my role as a Rotary secretary.', 'itinerary_id': '6AsZlajvoMCNd3M46M7c', 'user_id': 'wYCW25rYsbRqtANt7gAc7vjqNxh2', 'created_at': '2024-12-31T07:11:21.127422+00:00'}, {'id': 32, 'comment': 'Great content and helpful resources to guide me through the administrative duties of the club.', 'itinerary_id': '6AsZlajvoMCNd3M46M7c', 'user_id': '6huDCteYDyfr2OXenMVVEQjMufs2', 'created_at': '2024-12-31T07:11:21.127422+00:00'}, {'id': 33, 'comment': 'The speakers were knowledgeable and provided clear, actionable advice.', 'itinerary_id': 'G6GVSJRWuz4R21R68h4R', 'user_id': 'EU1O3wRX8UfVa7fs0CpYev9eBsc2', 'created_at': '2024-12-31T07:11:21.127422+00:00'}, {'id': 34, 'comment': 'I appreciated the opportunity to connect with other Rotary secretaries and share best practices.', 'itinerary_id': 'G6GVSJRWuz4R21R68h4R', 'user_id': 'wYCW25rYsbRqtANt7gAc7vjqNxh2', 'created_at': '2024-12-31T07:11:21.127422+00:00'}, {'id': 35, 'comment': 'The session on club reporting and recordkeeping was especially useful.', 'itinerary_id': 'G6GVSJRWuz4R21R68h4R', 'user_id': '6huDCteYDyfr2OXenMVVEQjMufs2', 'created_at': '2024-12-31T07:11:21.127422+00:00'}, {'id': 36, 'comment': 'Excellent overview of the Rotary Secretary role, from handling correspondence to managing agendas.', 'itinerary_id': 'MJCMsw4ajERwm2qmNzvD', 'user_id': 'EU1O3wRX8UfVa7fs0CpYev9eBsc2', 'created_at': '2024-12-31T07:11:21.127422+00:00'}, {'id': 37, 'comment': 'The hands-on exercises gave me a better understanding of the tools available for managing club operations.', 'itinerary_id': 'MJCMsw4ajERwm2qmNzvD', 'user_id': 'wYCW25rYsbRqtANt7gAc7vjqNxh2', 'created_at': '2024-12-31T07:11:21.127422+00:00'}, {'id': 38, 'comment': 'I found the tips on effective meeting minutes and communication particularly helpful.', 'itinerary_id': 'MJCMsw4ajERwm2qmNzvD', 'user_id': '6huDCteYDyfr2OXenMVVEQjMufs2', 'created_at': '2024-12-31T07:11:21.127422+00:00'}], count=None)"
      ]
     },
     "execution_count": 4,
     "metadata": {},
     "output_type": "execute_result"
    }
   ],
   "source": [
    "supabase.table(\"feedback\").upsert(records).execute()"
   ]
  }
 ],
 "metadata": {
  "kernelspec": {
   "display_name": ".venv",
   "language": "python",
   "name": "python3"
  },
  "language_info": {
   "codemirror_mode": {
    "name": "ipython",
    "version": 3
   },
   "file_extension": ".py",
   "mimetype": "text/x-python",
   "name": "python",
   "nbconvert_exporter": "python",
   "pygments_lexer": "ipython3",
   "version": "3.11.8"
  }
 },
 "nbformat": 4,
 "nbformat_minor": 2
}
