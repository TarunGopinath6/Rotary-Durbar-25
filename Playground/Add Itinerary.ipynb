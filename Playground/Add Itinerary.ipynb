{
 "cells": [
  {
   "cell_type": "markdown",
   "metadata": {},
   "source": [
    "## Setup"
   ]
  },
  {
   "cell_type": "code",
   "execution_count": 1,
   "metadata": {},
   "outputs": [],
   "source": [
    "import firebase_admin\n",
    "from firebase_admin import credentials, firestore\n",
    "\n",
    "SERVICE_ACCOUNT_KEY = \"./../serviceAccountKey.json\""
   ]
  },
  {
   "cell_type": "code",
   "execution_count": 2,
   "metadata": {},
   "outputs": [],
   "source": [
    "cred = credentials.Certificate(SERVICE_ACCOUNT_KEY)\n",
    "firebase_admin.initialize_app(cred)\n",
    "db = firestore.client()"
   ]
  },
  {
   "cell_type": "markdown",
   "metadata": {},
   "source": [
    "## Generate Data"
   ]
  },
  {
   "cell_type": "code",
   "execution_count": 3,
   "metadata": {},
   "outputs": [],
   "source": [
    "import random\n",
    "from datetime import datetime, timedelta, timezone\n",
    "\n",
    "itineraries = []\n",
    "dates = []\n",
    "locations = [\"Paris\", \"London\", \"New York\", \"Tokyo\"]\n",
    "types = [\"Leisure\", \"Business\", \"Adventure\"]\n",
    "num_days = 4\n",
    "records_per_day = 4\n",
    "\n",
    "for day in range(num_days):\n",
    "    # Generate start and end times for the same day\n",
    "    date = datetime.now() + timedelta(days=day)\n",
    "    dates.append({\"date\": date.astimezone(timezone.utc)})\n",
    "    \n",
    "    for _ in range(records_per_day):\n",
    "        start_time = datetime(date.year, date.month, date.day, random.randint(6, 20), random.randint(0, 59))  # Random time between 6 AM and 8 PM\n",
    "        end_time = start_time + timedelta(hours=random.randint(1, 5))  # Duration between 1 and 5 hours\n",
    "        \n",
    "        # Ensure end time doesn't exceed the day\n",
    "        if end_time.day != start_time.day:\n",
    "            end_time = datetime(start_time.year, start_time.month, start_time.day, 23, 59)\n",
    "        \n",
    "        # Create an itinerary\n",
    "        itinerary = {\n",
    "            \"title\": f\"Trip to {random.choice(locations)}\",\n",
    "            \"type\": random.choice(types),\n",
    "            \"venue\": f\"Location-{random.randint(0, 99)}\",\n",
    "            \"startTime\": start_time.astimezone(timezone.utc),\n",
    "            \"endTime\": end_time.astimezone(timezone.utc),\n",
    "            \"description\": \"This is a randomly generated itinerary.\",\n",
    "            \"image\": \"https://via.placeholder.com/400\"\n",
    "        }\n",
    "        itineraries.append(itinerary)"
   ]
  },
  {
   "cell_type": "markdown",
   "metadata": {},
   "source": [
    "## Add Data"
   ]
  },
  {
   "cell_type": "code",
   "execution_count": 4,
   "metadata": {},
   "outputs": [
    {
     "data": {
      "text/plain": [
       "[{'title': 'Trip to London',\n",
       "  'type': 'Business',\n",
       "  'venue': 'Location-65',\n",
       "  'startTime': datetime.datetime(2024, 12, 24, 10, 30, tzinfo=datetime.timezone.utc),\n",
       "  'endTime': datetime.datetime(2024, 12, 24, 12, 30, tzinfo=datetime.timezone.utc),\n",
       "  'description': 'This is a randomly generated itinerary.',\n",
       "  'image': 'https://via.placeholder.com/400'},\n",
       " {'title': 'Trip to Tokyo',\n",
       "  'type': 'Adventure',\n",
       "  'venue': 'Location-77',\n",
       "  'startTime': datetime.datetime(2024, 12, 24, 7, 30, tzinfo=datetime.timezone.utc),\n",
       "  'endTime': datetime.datetime(2024, 12, 24, 9, 30, tzinfo=datetime.timezone.utc),\n",
       "  'description': 'This is a randomly generated itinerary.',\n",
       "  'image': 'https://via.placeholder.com/400'},\n",
       " {'title': 'Trip to Tokyo',\n",
       "  'type': 'Adventure',\n",
       "  'venue': 'Location-38',\n",
       "  'startTime': datetime.datetime(2024, 12, 24, 5, 3, tzinfo=datetime.timezone.utc),\n",
       "  'endTime': datetime.datetime(2024, 12, 24, 9, 3, tzinfo=datetime.timezone.utc),\n",
       "  'description': 'This is a randomly generated itinerary.',\n",
       "  'image': 'https://via.placeholder.com/400'},\n",
       " {'title': 'Trip to London',\n",
       "  'type': 'Leisure',\n",
       "  'venue': 'Location-84',\n",
       "  'startTime': datetime.datetime(2024, 12, 24, 11, 1, tzinfo=datetime.timezone.utc),\n",
       "  'endTime': datetime.datetime(2024, 12, 24, 16, 1, tzinfo=datetime.timezone.utc),\n",
       "  'description': 'This is a randomly generated itinerary.',\n",
       "  'image': 'https://via.placeholder.com/400'},\n",
       " {'title': 'Trip to London',\n",
       "  'type': 'Business',\n",
       "  'venue': 'Location-86',\n",
       "  'startTime': datetime.datetime(2024, 12, 25, 9, 14, tzinfo=datetime.timezone.utc),\n",
       "  'endTime': datetime.datetime(2024, 12, 25, 12, 14, tzinfo=datetime.timezone.utc),\n",
       "  'description': 'This is a randomly generated itinerary.',\n",
       "  'image': 'https://via.placeholder.com/400'},\n",
       " {'title': 'Trip to Tokyo',\n",
       "  'type': 'Leisure',\n",
       "  'venue': 'Location-71',\n",
       "  'startTime': datetime.datetime(2024, 12, 25, 1, 40, tzinfo=datetime.timezone.utc),\n",
       "  'endTime': datetime.datetime(2024, 12, 25, 5, 40, tzinfo=datetime.timezone.utc),\n",
       "  'description': 'This is a randomly generated itinerary.',\n",
       "  'image': 'https://via.placeholder.com/400'},\n",
       " {'title': 'Trip to Tokyo',\n",
       "  'type': 'Business',\n",
       "  'venue': 'Location-63',\n",
       "  'startTime': datetime.datetime(2024, 12, 25, 2, 5, tzinfo=datetime.timezone.utc),\n",
       "  'endTime': datetime.datetime(2024, 12, 25, 6, 5, tzinfo=datetime.timezone.utc),\n",
       "  'description': 'This is a randomly generated itinerary.',\n",
       "  'image': 'https://via.placeholder.com/400'},\n",
       " {'title': 'Trip to London',\n",
       "  'type': 'Business',\n",
       "  'venue': 'Location-30',\n",
       "  'startTime': datetime.datetime(2024, 12, 25, 11, 21, tzinfo=datetime.timezone.utc),\n",
       "  'endTime': datetime.datetime(2024, 12, 25, 12, 21, tzinfo=datetime.timezone.utc),\n",
       "  'description': 'This is a randomly generated itinerary.',\n",
       "  'image': 'https://via.placeholder.com/400'},\n",
       " {'title': 'Trip to New York',\n",
       "  'type': 'Business',\n",
       "  'venue': 'Location-97',\n",
       "  'startTime': datetime.datetime(2024, 12, 26, 12, 36, tzinfo=datetime.timezone.utc),\n",
       "  'endTime': datetime.datetime(2024, 12, 26, 17, 36, tzinfo=datetime.timezone.utc),\n",
       "  'description': 'This is a randomly generated itinerary.',\n",
       "  'image': 'https://via.placeholder.com/400'},\n",
       " {'title': 'Trip to Paris',\n",
       "  'type': 'Adventure',\n",
       "  'venue': 'Location-67',\n",
       "  'startTime': datetime.datetime(2024, 12, 26, 1, 41, tzinfo=datetime.timezone.utc),\n",
       "  'endTime': datetime.datetime(2024, 12, 26, 4, 41, tzinfo=datetime.timezone.utc),\n",
       "  'description': 'This is a randomly generated itinerary.',\n",
       "  'image': 'https://via.placeholder.com/400'},\n",
       " {'title': 'Trip to Tokyo',\n",
       "  'type': 'Adventure',\n",
       "  'venue': 'Location-21',\n",
       "  'startTime': datetime.datetime(2024, 12, 26, 12, 56, tzinfo=datetime.timezone.utc),\n",
       "  'endTime': datetime.datetime(2024, 12, 26, 13, 56, tzinfo=datetime.timezone.utc),\n",
       "  'description': 'This is a randomly generated itinerary.',\n",
       "  'image': 'https://via.placeholder.com/400'},\n",
       " {'title': 'Trip to Paris',\n",
       "  'type': 'Adventure',\n",
       "  'venue': 'Location-97',\n",
       "  'startTime': datetime.datetime(2024, 12, 26, 1, 51, tzinfo=datetime.timezone.utc),\n",
       "  'endTime': datetime.datetime(2024, 12, 26, 5, 51, tzinfo=datetime.timezone.utc),\n",
       "  'description': 'This is a randomly generated itinerary.',\n",
       "  'image': 'https://via.placeholder.com/400'},\n",
       " {'title': 'Trip to New York',\n",
       "  'type': 'Leisure',\n",
       "  'venue': 'Location-63',\n",
       "  'startTime': datetime.datetime(2024, 12, 27, 13, 22, tzinfo=datetime.timezone.utc),\n",
       "  'endTime': datetime.datetime(2024, 12, 27, 17, 22, tzinfo=datetime.timezone.utc),\n",
       "  'description': 'This is a randomly generated itinerary.',\n",
       "  'image': 'https://via.placeholder.com/400'},\n",
       " {'title': 'Trip to London',\n",
       "  'type': 'Adventure',\n",
       "  'venue': 'Location-10',\n",
       "  'startTime': datetime.datetime(2024, 12, 27, 14, 42, tzinfo=datetime.timezone.utc),\n",
       "  'endTime': datetime.datetime(2024, 12, 27, 18, 29, tzinfo=datetime.timezone.utc),\n",
       "  'description': 'This is a randomly generated itinerary.',\n",
       "  'image': 'https://via.placeholder.com/400'},\n",
       " {'title': 'Trip to London',\n",
       "  'type': 'Business',\n",
       "  'venue': 'Location-54',\n",
       "  'startTime': datetime.datetime(2024, 12, 27, 6, 22, tzinfo=datetime.timezone.utc),\n",
       "  'endTime': datetime.datetime(2024, 12, 27, 10, 22, tzinfo=datetime.timezone.utc),\n",
       "  'description': 'This is a randomly generated itinerary.',\n",
       "  'image': 'https://via.placeholder.com/400'},\n",
       " {'title': 'Trip to Tokyo',\n",
       "  'type': 'Adventure',\n",
       "  'venue': 'Location-55',\n",
       "  'startTime': datetime.datetime(2024, 12, 27, 10, 35, tzinfo=datetime.timezone.utc),\n",
       "  'endTime': datetime.datetime(2024, 12, 27, 13, 35, tzinfo=datetime.timezone.utc),\n",
       "  'description': 'This is a randomly generated itinerary.',\n",
       "  'image': 'https://via.placeholder.com/400'}]"
      ]
     },
     "execution_count": 4,
     "metadata": {},
     "output_type": "execute_result"
    }
   ],
   "source": [
    "itineraries"
   ]
  },
  {
   "cell_type": "code",
   "execution_count": 5,
   "metadata": {},
   "outputs": [
    {
     "data": {
      "text/plain": [
       "[{'date': datetime.datetime(2024, 12, 24, 8, 46, 49, 264965, tzinfo=datetime.timezone.utc)},\n",
       " {'date': datetime.datetime(2024, 12, 25, 8, 46, 49, 264965, tzinfo=datetime.timezone.utc)},\n",
       " {'date': datetime.datetime(2024, 12, 26, 8, 46, 49, 264965, tzinfo=datetime.timezone.utc)},\n",
       " {'date': datetime.datetime(2024, 12, 27, 8, 46, 49, 264965, tzinfo=datetime.timezone.utc)}]"
      ]
     },
     "execution_count": 5,
     "metadata": {},
     "output_type": "execute_result"
    }
   ],
   "source": [
    "dates"
   ]
  },
  {
   "cell_type": "code",
   "execution_count": 6,
   "metadata": {},
   "outputs": [],
   "source": [
    "for entry in dates:\n",
    "    entry['date'] = entry['date'].replace(hour=0, minute=0, second=0, microsecond=0)"
   ]
  },
  {
   "cell_type": "code",
   "execution_count": 7,
   "metadata": {},
   "outputs": [
    {
     "data": {
      "text/plain": [
       "[{'date': datetime.datetime(2024, 12, 24, 0, 0, tzinfo=datetime.timezone.utc)},\n",
       " {'date': datetime.datetime(2024, 12, 25, 0, 0, tzinfo=datetime.timezone.utc)},\n",
       " {'date': datetime.datetime(2024, 12, 26, 0, 0, tzinfo=datetime.timezone.utc)},\n",
       " {'date': datetime.datetime(2024, 12, 27, 0, 0, tzinfo=datetime.timezone.utc)}]"
      ]
     },
     "execution_count": 7,
     "metadata": {},
     "output_type": "execute_result"
    }
   ],
   "source": [
    "dates"
   ]
  },
  {
   "cell_type": "code",
   "execution_count": 8,
   "metadata": {},
   "outputs": [],
   "source": [
    "for record in itineraries:\n",
    "    # Create new Firestore record\n",
    "    doc_ref = db.collection(\"itineraries\").document()\n",
    "    doc_ref.set(record)"
   ]
  },
  {
   "cell_type": "code",
   "execution_count": 40,
   "metadata": {},
   "outputs": [
    {
     "data": {
      "text/plain": [
       "[{'date': datetime.date(2024, 12, 23)},\n",
       " {'date': datetime.date(2024, 12, 24)},\n",
       " {'date': datetime.date(2024, 12, 25)},\n",
       " {'date': datetime.date(2024, 12, 26)}]"
      ]
     },
     "execution_count": 40,
     "metadata": {},
     "output_type": "execute_result"
    }
   ],
   "source": [
    "dates"
   ]
  },
  {
   "cell_type": "code",
   "execution_count": 43,
   "metadata": {},
   "outputs": [
    {
     "data": {
      "text/plain": [
       "datetime.date(2024, 12, 23)"
      ]
     },
     "execution_count": 43,
     "metadata": {},
     "output_type": "execute_result"
    }
   ],
   "source": [
    "dates[0]['date']"
   ]
  },
  {
   "cell_type": "code",
   "execution_count": 9,
   "metadata": {},
   "outputs": [],
   "source": [
    "for record in dates:\n",
    "        # Create new Firestore record\n",
    "    doc_ref = db.collection(\"itineraries_dates\").document()\n",
    "    doc_ref.set(record)"
   ]
  }
 ],
 "metadata": {
  "kernelspec": {
   "display_name": ".venv",
   "language": "python",
   "name": "python3"
  },
  "language_info": {
   "codemirror_mode": {
    "name": "ipython",
    "version": 3
   },
   "file_extension": ".py",
   "mimetype": "text/x-python",
   "name": "python",
   "nbconvert_exporter": "python",
   "pygments_lexer": "ipython3",
   "version": "3.11.8"
  }
 },
 "nbformat": 4,
 "nbformat_minor": 2
}
