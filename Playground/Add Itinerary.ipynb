{
 "cells": [
  {
   "cell_type": "markdown",
   "metadata": {},
   "source": [
    "## Setup"
   ]
  },
  {
   "cell_type": "code",
   "execution_count": 1,
   "metadata": {},
   "outputs": [],
   "source": [
    "import firebase_admin\n",
    "from firebase_admin import credentials, firestore\n",
    "\n",
    "SERVICE_ACCOUNT_KEY = \"./../serviceAccountKey.json\""
   ]
  },
  {
   "cell_type": "code",
   "execution_count": 2,
   "metadata": {},
   "outputs": [],
   "source": [
    "cred = credentials.Certificate(SERVICE_ACCOUNT_KEY)\n",
    "firebase_admin.initialize_app(cred)\n",
    "db = firestore.client()"
   ]
  },
  {
   "cell_type": "markdown",
   "metadata": {},
   "source": [
    "## Generate Data"
   ]
  },
  {
   "cell_type": "code",
   "execution_count": 44,
   "metadata": {},
   "outputs": [],
   "source": [
    "import random\n",
    "from datetime import datetime, timedelta, timezone\n",
    "\n",
    "itineraries = []\n",
    "dates = []\n",
    "locations = [\"Paris\", \"London\", \"New York\", \"Tokyo\"]\n",
    "types = [\"Leisure\", \"Business\", \"Adventure\"]\n",
    "num_days = 4\n",
    "records_per_day = 4\n",
    "\n",
    "for day in range(num_days):\n",
    "    # Generate start and end times for the same day\n",
    "    date = datetime.now() + timedelta(days=day)\n",
    "    dates.append({\"date\": date.astimezone(timezone.utc)})\n",
    "    \n",
    "    for _ in range(records_per_day):\n",
    "        start_time = datetime(date.year, date.month, date.day, random.randint(6, 20), random.randint(0, 59))  # Random time between 6 AM and 8 PM\n",
    "        end_time = start_time + timedelta(hours=random.randint(1, 5))  # Duration between 1 and 5 hours\n",
    "        \n",
    "        # Ensure end time doesn't exceed the day\n",
    "        if end_time.day != start_time.day:\n",
    "            end_time = datetime(start_time.year, start_time.month, start_time.day, 23, 59)\n",
    "        \n",
    "        # Create an itinerary\n",
    "        itinerary = {\n",
    "            \"title\": f\"Trip to {random.choice(locations)}\",\n",
    "            \"type\": random.choice(types),\n",
    "            \"location\": f\"Location-{random.randint(0, 99)}\",\n",
    "            \"startTime\": start_time.astimezone(timezone.utc),\n",
    "            \"endTime\": end_time.astimezone(timezone.utc),\n",
    "            \"description\": \"This is a randomly generated itinerary.\",\n",
    "            \"image\": \"https://via.placeholder.com/400\"\n",
    "        }\n",
    "        itineraries.append(itinerary)"
   ]
  },
  {
   "cell_type": "markdown",
   "metadata": {},
   "source": [
    "## Add Data"
   ]
  },
  {
   "cell_type": "code",
   "execution_count": 29,
   "metadata": {},
   "outputs": [
    {
     "data": {
      "text/plain": [
       "[{'title': 'Trip to Tokyo',\n",
       "  'type': 'Adventure',\n",
       "  'location': 'Location-77',\n",
       "  'startTime': datetime.datetime(2024, 12, 23, 12, 34, tzinfo=datetime.timezone.utc),\n",
       "  'endTime': datetime.datetime(2024, 12, 23, 15, 34, tzinfo=datetime.timezone.utc),\n",
       "  'description': 'This is a randomly generated itinerary.',\n",
       "  'image': 'https://via.placeholder.com/400'},\n",
       " {'title': 'Trip to London',\n",
       "  'type': 'Business',\n",
       "  'location': 'Location-97',\n",
       "  'startTime': datetime.datetime(2024, 12, 23, 11, 43, tzinfo=datetime.timezone.utc),\n",
       "  'endTime': datetime.datetime(2024, 12, 23, 12, 43, tzinfo=datetime.timezone.utc),\n",
       "  'description': 'This is a randomly generated itinerary.',\n",
       "  'image': 'https://via.placeholder.com/400'},\n",
       " {'title': 'Trip to New York',\n",
       "  'type': 'Business',\n",
       "  'location': 'Location-78',\n",
       "  'startTime': datetime.datetime(2024, 12, 23, 3, 13, tzinfo=datetime.timezone.utc),\n",
       "  'endTime': datetime.datetime(2024, 12, 23, 6, 13, tzinfo=datetime.timezone.utc),\n",
       "  'description': 'This is a randomly generated itinerary.',\n",
       "  'image': 'https://via.placeholder.com/400'},\n",
       " {'title': 'Trip to Paris',\n",
       "  'type': 'Adventure',\n",
       "  'location': 'Location-42',\n",
       "  'startTime': datetime.datetime(2024, 12, 23, 2, 5, tzinfo=datetime.timezone.utc),\n",
       "  'endTime': datetime.datetime(2024, 12, 23, 6, 5, tzinfo=datetime.timezone.utc),\n",
       "  'description': 'This is a randomly generated itinerary.',\n",
       "  'image': 'https://via.placeholder.com/400'},\n",
       " {'title': 'Trip to London',\n",
       "  'type': 'Leisure',\n",
       "  'location': 'Location-58',\n",
       "  'startTime': datetime.datetime(2024, 12, 24, 6, 5, tzinfo=datetime.timezone.utc),\n",
       "  'endTime': datetime.datetime(2024, 12, 24, 7, 5, tzinfo=datetime.timezone.utc),\n",
       "  'description': 'This is a randomly generated itinerary.',\n",
       "  'image': 'https://via.placeholder.com/400'},\n",
       " {'title': 'Trip to London',\n",
       "  'type': 'Leisure',\n",
       "  'location': 'Location-21',\n",
       "  'startTime': datetime.datetime(2024, 12, 24, 5, 28, tzinfo=datetime.timezone.utc),\n",
       "  'endTime': datetime.datetime(2024, 12, 24, 6, 28, tzinfo=datetime.timezone.utc),\n",
       "  'description': 'This is a randomly generated itinerary.',\n",
       "  'image': 'https://via.placeholder.com/400'},\n",
       " {'title': 'Trip to London',\n",
       "  'type': 'Business',\n",
       "  'location': 'Location-57',\n",
       "  'startTime': datetime.datetime(2024, 12, 24, 7, 2, tzinfo=datetime.timezone.utc),\n",
       "  'endTime': datetime.datetime(2024, 12, 24, 10, 2, tzinfo=datetime.timezone.utc),\n",
       "  'description': 'This is a randomly generated itinerary.',\n",
       "  'image': 'https://via.placeholder.com/400'},\n",
       " {'title': 'Trip to Paris',\n",
       "  'type': 'Business',\n",
       "  'location': 'Location-27',\n",
       "  'startTime': datetime.datetime(2024, 12, 24, 13, 21, tzinfo=datetime.timezone.utc),\n",
       "  'endTime': datetime.datetime(2024, 12, 24, 16, 21, tzinfo=datetime.timezone.utc),\n",
       "  'description': 'This is a randomly generated itinerary.',\n",
       "  'image': 'https://via.placeholder.com/400'},\n",
       " {'title': 'Trip to New York',\n",
       "  'type': 'Business',\n",
       "  'location': 'Location-50',\n",
       "  'startTime': datetime.datetime(2024, 12, 25, 11, 3, tzinfo=datetime.timezone.utc),\n",
       "  'endTime': datetime.datetime(2024, 12, 25, 12, 3, tzinfo=datetime.timezone.utc),\n",
       "  'description': 'This is a randomly generated itinerary.',\n",
       "  'image': 'https://via.placeholder.com/400'},\n",
       " {'title': 'Trip to Tokyo',\n",
       "  'type': 'Leisure',\n",
       "  'location': 'Location-91',\n",
       "  'startTime': datetime.datetime(2024, 12, 25, 13, 18, tzinfo=datetime.timezone.utc),\n",
       "  'endTime': datetime.datetime(2024, 12, 25, 15, 18, tzinfo=datetime.timezone.utc),\n",
       "  'description': 'This is a randomly generated itinerary.',\n",
       "  'image': 'https://via.placeholder.com/400'},\n",
       " {'title': 'Trip to London',\n",
       "  'type': 'Adventure',\n",
       "  'location': 'Location-18',\n",
       "  'startTime': datetime.datetime(2024, 12, 25, 10, 45, tzinfo=datetime.timezone.utc),\n",
       "  'endTime': datetime.datetime(2024, 12, 25, 11, 45, tzinfo=datetime.timezone.utc),\n",
       "  'description': 'This is a randomly generated itinerary.',\n",
       "  'image': 'https://via.placeholder.com/400'},\n",
       " {'title': 'Trip to Paris',\n",
       "  'type': 'Adventure',\n",
       "  'location': 'Location-82',\n",
       "  'startTime': datetime.datetime(2024, 12, 25, 14, 59, tzinfo=datetime.timezone.utc),\n",
       "  'endTime': datetime.datetime(2024, 12, 25, 15, 59, tzinfo=datetime.timezone.utc),\n",
       "  'description': 'This is a randomly generated itinerary.',\n",
       "  'image': 'https://via.placeholder.com/400'},\n",
       " {'title': 'Trip to Paris',\n",
       "  'type': 'Leisure',\n",
       "  'location': 'Location-93',\n",
       "  'startTime': datetime.datetime(2024, 12, 26, 13, 53, tzinfo=datetime.timezone.utc),\n",
       "  'endTime': datetime.datetime(2024, 12, 26, 15, 53, tzinfo=datetime.timezone.utc),\n",
       "  'description': 'This is a randomly generated itinerary.',\n",
       "  'image': 'https://via.placeholder.com/400'},\n",
       " {'title': 'Trip to New York',\n",
       "  'type': 'Leisure',\n",
       "  'location': 'Location-83',\n",
       "  'startTime': datetime.datetime(2024, 12, 26, 13, 8, tzinfo=datetime.timezone.utc),\n",
       "  'endTime': datetime.datetime(2024, 12, 26, 18, 8, tzinfo=datetime.timezone.utc),\n",
       "  'description': 'This is a randomly generated itinerary.',\n",
       "  'image': 'https://via.placeholder.com/400'},\n",
       " {'title': 'Trip to Tokyo',\n",
       "  'type': 'Adventure',\n",
       "  'location': 'Location-55',\n",
       "  'startTime': datetime.datetime(2024, 12, 26, 12, 51, tzinfo=datetime.timezone.utc),\n",
       "  'endTime': datetime.datetime(2024, 12, 26, 14, 51, tzinfo=datetime.timezone.utc),\n",
       "  'description': 'This is a randomly generated itinerary.',\n",
       "  'image': 'https://via.placeholder.com/400'},\n",
       " {'title': 'Trip to London',\n",
       "  'type': 'Leisure',\n",
       "  'location': 'Location-72',\n",
       "  'startTime': datetime.datetime(2024, 12, 26, 14, 38, tzinfo=datetime.timezone.utc),\n",
       "  'endTime': datetime.datetime(2024, 12, 26, 17, 38, tzinfo=datetime.timezone.utc),\n",
       "  'description': 'This is a randomly generated itinerary.',\n",
       "  'image': 'https://via.placeholder.com/400'}]"
      ]
     },
     "execution_count": 29,
     "metadata": {},
     "output_type": "execute_result"
    }
   ],
   "source": [
    "itineraries"
   ]
  },
  {
   "cell_type": "code",
   "execution_count": 45,
   "metadata": {},
   "outputs": [
    {
     "data": {
      "text/plain": [
       "[{'date': datetime.datetime(2024, 12, 23, 14, 35, 11, 207362, tzinfo=datetime.timezone.utc)},\n",
       " {'date': datetime.datetime(2024, 12, 24, 14, 35, 11, 207362, tzinfo=datetime.timezone.utc)},\n",
       " {'date': datetime.datetime(2024, 12, 25, 14, 35, 11, 207362, tzinfo=datetime.timezone.utc)},\n",
       " {'date': datetime.datetime(2024, 12, 26, 14, 35, 11, 207362, tzinfo=datetime.timezone.utc)}]"
      ]
     },
     "execution_count": 45,
     "metadata": {},
     "output_type": "execute_result"
    }
   ],
   "source": [
    "dates"
   ]
  },
  {
   "cell_type": "code",
   "execution_count": 46,
   "metadata": {},
   "outputs": [],
   "source": [
    "for entry in dates:\n",
    "    entry['date'] = entry['date'].replace(hour=0, minute=0, second=0, microsecond=0)"
   ]
  },
  {
   "cell_type": "code",
   "execution_count": 47,
   "metadata": {},
   "outputs": [
    {
     "data": {
      "text/plain": [
       "[{'date': datetime.datetime(2024, 12, 23, 0, 0, tzinfo=datetime.timezone.utc)},\n",
       " {'date': datetime.datetime(2024, 12, 24, 0, 0, tzinfo=datetime.timezone.utc)},\n",
       " {'date': datetime.datetime(2024, 12, 25, 0, 0, tzinfo=datetime.timezone.utc)},\n",
       " {'date': datetime.datetime(2024, 12, 26, 0, 0, tzinfo=datetime.timezone.utc)}]"
      ]
     },
     "execution_count": 47,
     "metadata": {},
     "output_type": "execute_result"
    }
   ],
   "source": [
    "dates"
   ]
  },
  {
   "cell_type": "code",
   "execution_count": 31,
   "metadata": {},
   "outputs": [],
   "source": [
    "for record in itineraries:\n",
    "    # Create new Firestore record\n",
    "    doc_ref = db.collection(\"itineraries\").document()\n",
    "    doc_ref.set(record)"
   ]
  },
  {
   "cell_type": "code",
   "execution_count": 40,
   "metadata": {},
   "outputs": [
    {
     "data": {
      "text/plain": [
       "[{'date': datetime.date(2024, 12, 23)},\n",
       " {'date': datetime.date(2024, 12, 24)},\n",
       " {'date': datetime.date(2024, 12, 25)},\n",
       " {'date': datetime.date(2024, 12, 26)}]"
      ]
     },
     "execution_count": 40,
     "metadata": {},
     "output_type": "execute_result"
    }
   ],
   "source": [
    "dates"
   ]
  },
  {
   "cell_type": "code",
   "execution_count": 43,
   "metadata": {},
   "outputs": [
    {
     "data": {
      "text/plain": [
       "datetime.date(2024, 12, 23)"
      ]
     },
     "execution_count": 43,
     "metadata": {},
     "output_type": "execute_result"
    }
   ],
   "source": [
    "dates[0]['date']"
   ]
  },
  {
   "cell_type": "code",
   "execution_count": 48,
   "metadata": {},
   "outputs": [],
   "source": [
    "for record in dates:\n",
    "        # Create new Firestore record\n",
    "    doc_ref = db.collection(\"itineraries_dates\").document()\n",
    "    doc_ref.set(record)"
   ]
  }
 ],
 "metadata": {
  "kernelspec": {
   "display_name": ".venv",
   "language": "python",
   "name": "python3"
  },
  "language_info": {
   "codemirror_mode": {
    "name": "ipython",
    "version": 3
   },
   "file_extension": ".py",
   "mimetype": "text/x-python",
   "name": "python",
   "nbconvert_exporter": "python",
   "pygments_lexer": "ipython3",
   "version": "3.11.8"
  }
 },
 "nbformat": 4,
 "nbformat_minor": 2
}
