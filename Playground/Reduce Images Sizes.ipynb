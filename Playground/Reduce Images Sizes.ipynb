{
 "cells": [
  {
   "cell_type": "code",
   "execution_count": 30,
   "metadata": {},
   "outputs": [
    {
     "data": {
      "text/plain": [
       "True"
      ]
     },
     "execution_count": 30,
     "metadata": {},
     "output_type": "execute_result"
    }
   ],
   "source": [
    "from supabase import create_client\n",
    "import dotenv\n",
    "import os\n",
    "import pandas as pd\n",
    "from PIL import Image\n",
    "from io import BytesIO\n",
    "\n",
    "dotenv.load_dotenv()"
   ]
  },
  {
   "cell_type": "code",
   "execution_count": 3,
   "metadata": {},
   "outputs": [],
   "source": [
    "supabase = create_client(os.getenv('EXPO_PUBLIC_SUPABASE_URL'), os.getenv('EXPO_PUBLIC_SUPABASE_ANON_KEY'))"
   ]
  },
  {
   "cell_type": "code",
   "execution_count": 83,
   "metadata": {},
   "outputs": [],
   "source": [
    "responseList = supabase.storage.from_(\"members\").list(options={'limit': 200})"
   ]
  },
  {
   "cell_type": "code",
   "execution_count": 84,
   "metadata": {},
   "outputs": [],
   "source": [
    "# Check if files are found\n",
    "if responseList:\n",
    "    # Process files into a list of dictionaries\n",
    "    file_data = [\n",
    "        {\n",
    "            \"name\": file[\"name\"],\n",
    "            \"type\": os.path.splitext(file[\"name\"])[1].lstrip(\".\"),  # Extract file extension (type)\n",
    "            \"size\": file[\"metadata\"][\"size\"] / 1024  # Convert size to KB\n",
    "        }\n",
    "        for file in responseList\n",
    "    ]\n",
    "\n",
    "    # Convert to DataFrame\n",
    "    df = pd.DataFrame(file_data)\n",
    "\n",
    "    # Sort: Files > 100KB first\n",
    "    df = df.sort_values(by=\"size\", ascending=False)\n",
    "else:\n",
    "    print(\"No files found in the 'members' storage.\")"
   ]
  },
  {
   "cell_type": "code",
   "execution_count": 85,
   "metadata": {},
   "outputs": [],
   "source": [
    "df['type'] = df['type'].str.lower()"
   ]
  },
  {
   "cell_type": "code",
   "execution_count": 86,
   "metadata": {},
   "outputs": [
    {
     "data": {
      "text/plain": [
       "(48, 3)"
      ]
     },
     "execution_count": 86,
     "metadata": {},
     "output_type": "execute_result"
    }
   ],
   "source": [
    "df[(df['size'] > 100) | (df['type'] != 'png') ].shape"
   ]
  },
  {
   "cell_type": "code",
   "execution_count": 87,
   "metadata": {},
   "outputs": [],
   "source": [
    "def convert_to_png(image_bytes):\n",
    "    with Image.open(BytesIO(image_bytes)) as img:\n",
    "        output = BytesIO()\n",
    "        img.save(output, format=\"PNG\")\n",
    "        output.seek(0)\n",
    "        return output.getvalue()\n",
    "\n",
    "    return image_bytes  # Return as is if PNG"
   ]
  },
  {
   "cell_type": "code",
   "execution_count": 88,
   "metadata": {},
   "outputs": [],
   "source": [
    "def scale_down_image(image_bytes, max_size):\n",
    "    with Image.open(BytesIO(image_bytes)) as img:\n",
    "        output = BytesIO()\n",
    "\n",
    "        # Reduce quality until under 100KB\n",
    "        quality = 95  # Start with high quality\n",
    "        while output.tell() / 1024 > max_size and quality > 10:\n",
    "            output = BytesIO()\n",
    "            img.save(output, format=\"PNG\", quality=quality)\n",
    "            output.seek(0)\n",
    "            quality -= 5\n",
    "\n",
    "        return output.getvalue()"
   ]
  },
  {
   "cell_type": "code",
   "execution_count": 101,
   "metadata": {},
   "outputs": [],
   "source": [
    "file_bytes = supabase.storage.from_(\"members\").download(\"IMG_5141 - amargirish (2).jpeg\")"
   ]
  },
  {
   "cell_type": "code",
   "execution_count": 102,
   "metadata": {},
   "outputs": [],
   "source": [
    "file_bytes = convert_to_png(file_bytes)"
   ]
  },
  {
   "cell_type": "code",
   "execution_count": 103,
   "metadata": {},
   "outputs": [],
   "source": [
    "image = Image.open(BytesIO(file_bytes))"
   ]
  },
  {
   "cell_type": "code",
   "execution_count": null,
   "metadata": {},
   "outputs": [],
   "source": [
    "image.resize((500, 500), Image.ANTIALIAS)"
   ]
  },
  {
   "cell_type": "code",
   "execution_count": 104,
   "metadata": {},
   "outputs": [
    {
     "data": {
      "text/plain": [
       "(2316, 2030)"
      ]
     },
     "execution_count": 104,
     "metadata": {},
     "output_type": "execute_result"
    }
   ],
   "source": [
    "image.size"
   ]
  },
  {
   "cell_type": "code",
   "execution_count": 99,
   "metadata": {},
   "outputs": [],
   "source": [
    "file_bytes = scale_down_image(file_bytes, 100)"
   ]
  },
  {
   "cell_type": "code",
   "execution_count": null,
   "metadata": {},
   "outputs": [],
   "source": []
  },
  {
   "cell_type": "code",
   "execution_count": 100,
   "metadata": {},
   "outputs": [
    {
     "data": {
      "text/plain": [
       "UploadResponse(path='IMG_5141 - amargirish (2).png', full_path='members/IMG_5141 - amargirish (2).png')"
      ]
     },
     "execution_count": 100,
     "metadata": {},
     "output_type": "execute_result"
    }
   ],
   "source": [
    "new_file_name = \"IMG_5141 - amargirish (2).png\"\n",
    "supabase.storage.from_(\"members\").upload(file=file_bytes, path=new_file_name, file_options={'upsert': \"true\"})"
   ]
  },
  {
   "cell_type": "code",
   "execution_count": 95,
   "metadata": {},
   "outputs": [
    {
     "name": "stdout",
     "output_type": "stream",
     "text": [
      "Not png:  IMG_5141 - amargirish (2).jpeg\n",
      "Not png:  fheQk10hvUgStwsZSGN6LcYz94N2.jpg\n",
      "Not png:  f4Xuy2P6qBbKnMnwEVg3sPLv28i2.jpg\n",
      "Not png:  Venkataraman - Fin 1 Solutions.jpeg\n",
      "Not png:  q3ZmFxvjshXG7Zx0DzNITbiH90q1.JPG\n",
      "Not png:  Karthikeyan Photo - Money Time Secutiry.jpg\n",
      "Not png:  IMG-20241213-WA0039 - anuradha Srikanth.jpg\n",
      "Not png:  WhatsApp Image 2025-01-11 at 21.06.21_e9812187 - Tarun Gopinath.jpg\n",
      "Not png:  H1OEHEHxMzdIbhmMOjUdUYJ6cRr2.jpg\n",
      "Not png:  bU62C8QMwMQ8pHSYJHeT29Fjr8H2.jpg\n",
      "Not png:  IMG-20241106-WA0023(1) - Niky pedia.jpg\n",
      "Not png:  GNhogVtO49Nw2Y9le1lFQpRcrAr2.jpg\n",
      "Not png:  gY6LtyHpGQaugLxsMDEy86H7yGy2.jpg\n",
      "Not png:  sudha_sathiyan.jpg\n",
      "Not png:  karthick.jpg\n",
      "Not png:  88IZ12up0kYsw9jbyvLaMZ3qjOm1.jpg\n",
      "Not png:  48ywCUWkqnP7IwVM3StBztjZ1Ar1.JPG\n",
      "Not png:  0pVjtsdPn9fQE0IylQKcFqmdVQJ3.jpg\n",
      "Not png:  20250107_215757 - Keerthi Girish.jpg\n",
      "Not png:  hMgLtuNVZiMJj39xzfk5HRryBZC3.jpg\n",
      "Not png:  01 - Ajay tata (1).jpg\n",
      "Not png:  Pinakee coat - Pinakee Roy.jpeg\n",
      "Not png:  035A8299 - Manish Kumar.jpg\n",
      "Not png:  PRABHU - Fin 1 Solutions.jpeg\n",
      "Not png:  iAghLbSgdiYv49aofHWzsF4I4ly1 (1).jpg\n",
      "Not png:  .emptyFolderPlaceholder\n",
      "cannot identify image file <_io.BytesIO object at 0x0000028044D00B80>\n",
      "{'name': '.emptyFolderPlaceholder', 'type': '', 'size': 0.0}\n"
     ]
    }
   ],
   "source": [
    "for image in df[(df['size'] > 100) | (df['type'] != 'png') ].to_dict(orient='records'):\n",
    "    file_bytes = supabase.storage.from_(\"members\").download(image['name'])\n",
    "    \n",
    "    try:\n",
    "        if image['type'] != 'png':\n",
    "            print('Not png: ', image['name'])\n",
    "            file_bytes = convert_to_png(file_bytes)\n",
    "        \n",
    "        if image['size'] > 100 and image['size'] < 2000:\n",
    "            file_bytes = scale_down_image(file_bytes, 100)\n",
    "        \n",
    "        new_file_name = os.path.splitext(image['name'])[0] + \".png\"\n",
    "        supabase.storage.from_(\"members\").upload(file=file_bytes, path=new_file_name, file_options={'upsert': \"true\"})\n",
    "    except Exception as e:\n",
    "        print(e)\n",
    "        print(image)"
   ]
  },
  {
   "cell_type": "code",
   "execution_count": 90,
   "metadata": {},
   "outputs": [],
   "source": [
    "responseListAfter = supabase.storage.from_(\"members\").list(options={'limit': 200})"
   ]
  },
  {
   "cell_type": "code",
   "execution_count": 92,
   "metadata": {},
   "outputs": [],
   "source": [
    "# Check if files are found\n",
    "if responseListAfter:\n",
    "    # Process files into a list of dictionaries\n",
    "    file_data_after = [\n",
    "        {\n",
    "            \"name\": file[\"name\"],\n",
    "            \"type\": os.path.splitext(file[\"name\"])[1].lstrip(\".\"),  # Extract file extension (type)\n",
    "            \"size\": file[\"metadata\"][\"size\"] / 1024  # Convert size to KB\n",
    "        }\n",
    "        for file in responseListAfter\n",
    "    ]\n",
    "\n",
    "    # Convert to DataFrame\n",
    "    df_after = pd.DataFrame(file_data_after)\n",
    "\n",
    "    # Sort: Files > 100KB first\n",
    "    df_after = df_after.sort_values(by=\"size\", ascending=False)\n",
    "else:\n",
    "    print(\"No files found in the 'members' storage.\")"
   ]
  },
  {
   "cell_type": "code",
   "execution_count": 93,
   "metadata": {},
   "outputs": [
    {
     "data": {
      "application/vnd.microsoft.datawrangler.viewer.v0+json": {
       "columns": [
        {
         "name": "index",
         "rawType": "int64",
         "type": "integer"
        },
        {
         "name": "name",
         "rawType": "object",
         "type": "string"
        },
        {
         "name": "type",
         "rawType": "object",
         "type": "string"
        },
        {
         "name": "size",
         "rawType": "float64",
         "type": "float"
        }
       ],
       "conversionMethod": "pd.DataFrame",
       "ref": "fdbacf48-3ff8-4cb3-8556-d4a7eca68d45",
       "rows": [
        [
         "112",
         "VcklLLsmlaPvJGSJJ9oe14puJaQ2.png",
         "png",
         "9018.5478515625"
        ],
        [
         "123",
         "YpNXPZOjQ5Rdxth0N9g7ab3pH1i1.png",
         "png",
         "6440.7626953125"
        ],
        [
         "74",
         "lPV9dg813paS5cZlYpMlLCXsDXs1.png",
         "png",
         "6314.470703125"
        ],
        [
         "128",
         "zDYKY9HF3SYHtlTTaH4UxgNVSHQ2.png",
         "png",
         "6102.08203125"
        ],
        [
         "42",
         "FzIjbeoygQRt4spAJalnEqNd0Pp1.png",
         "png",
         "6048.0"
        ],
        [
         "83",
         "oknv5vP2wAZKVO94zxHoKD1ZYSJ3.png",
         "png",
         "5725.3935546875"
        ],
        [
         "82",
         "oh4CqM27M4PVEJLKj8uFVigMYEJ2.png",
         "png",
         "2495.4658203125"
        ],
        [
         "48",
         "gY6LtyHpGQaugLxsMDEy86H7yGy2.png",
         "png",
         "1754.7255859375"
        ],
        [
         "45",
         "GNhogVtO49Nw2Y9le1lFQpRcrAr2.png",
         "png",
         "1409.0986328125"
        ],
        [
         "57",
         "IMG-20241106-WA0023(1) - Niky pedia.png",
         "png",
         "1127.9208984375"
        ],
        [
         "50",
         "H1OEHEHxMzdIbhmMOjUdUYJ6cRr2.png",
         "png",
         "1117.607421875"
        ],
        [
         "67",
         "karthick.png",
         "png",
         "895.95703125"
        ],
        [
         "15",
         "48ywCUWkqnP7IwVM3StBztjZ1Ar1.png",
         "png",
         "858.818359375"
        ],
        [
         "60",
         "IMG_5141 - amargirish (2).jpeg",
         "jpeg",
         "730.9990234375"
        ],
        [
         "29",
         "bU62C8QMwMQ8pHSYJHeT29Fjr8H2.png",
         "png",
         "701.2421875"
        ],
        [
         "40",
         "fheQk10hvUgStwsZSGN6LcYz94N2.jpg",
         "jpg",
         "466.482421875"
        ],
        [
         "104",
         "sudha_sathiyan.png",
         "png",
         "465.3291015625"
        ],
        [
         "9",
         "20250107_215757 - Keerthi Girish.png",
         "png",
         "425.4189453125"
        ],
        [
         "20",
         "88IZ12up0kYsw9jbyvLaMZ3qjOm1.png",
         "png",
         "393.318359375"
        ],
        [
         "6",
         "0pVjtsdPn9fQE0IylQKcFqmdVQJ3.png",
         "png",
         "280.404296875"
        ],
        [
         "38",
         "f4Xuy2P6qBbKnMnwEVg3sPLv28i2.jpg",
         "jpg",
         "262.865234375"
        ],
        [
         "52",
         "hMgLtuNVZiMJj39xzfk5HRryBZC3.png",
         "png",
         "217.166015625"
        ],
        [
         "113",
         "Venkataraman - Fin 1 Solutions.jpeg",
         "jpeg",
         "170.04296875"
        ],
        [
         "54",
         "iAghLbSgdiYv49aofHWzsF4I4ly1 (1).png",
         "png",
         "164.7197265625"
        ],
        [
         "1",
         "01 - Ajay tata (1).png",
         "png",
         "161.794921875"
        ],
        [
         "96",
         "q3ZmFxvjshXG7Zx0DzNITbiH90q1.JPG",
         "JPG",
         "151.546875"
        ],
        [
         "95",
         "PRABHU - Fin 1 Solutions.png",
         "png",
         "147.9091796875"
        ],
        [
         "68",
         "Karthikeyan Photo - Money Time Secutiry.jpg",
         "jpg",
         "143.8603515625"
        ],
        [
         "58",
         "IMG-20241213-WA0039 - anuradha Srikanth.jpg",
         "jpg",
         "129.5029296875"
        ],
        [
         "116",
         "WhatsApp Image 2025-01-11 at 21.06.21_e9812187 - Tarun Gopinath.jpg",
         "jpg",
         "111.220703125"
        ]
       ],
       "shape": {
        "columns": 3,
        "rows": 30
       }
      },
      "text/html": [
       "<div>\n",
       "<style scoped>\n",
       "    .dataframe tbody tr th:only-of-type {\n",
       "        vertical-align: middle;\n",
       "    }\n",
       "\n",
       "    .dataframe tbody tr th {\n",
       "        vertical-align: top;\n",
       "    }\n",
       "\n",
       "    .dataframe thead th {\n",
       "        text-align: right;\n",
       "    }\n",
       "</style>\n",
       "<table border=\"1\" class=\"dataframe\">\n",
       "  <thead>\n",
       "    <tr style=\"text-align: right;\">\n",
       "      <th></th>\n",
       "      <th>name</th>\n",
       "      <th>type</th>\n",
       "      <th>size</th>\n",
       "    </tr>\n",
       "  </thead>\n",
       "  <tbody>\n",
       "    <tr>\n",
       "      <th>112</th>\n",
       "      <td>VcklLLsmlaPvJGSJJ9oe14puJaQ2.png</td>\n",
       "      <td>png</td>\n",
       "      <td>9018.547852</td>\n",
       "    </tr>\n",
       "    <tr>\n",
       "      <th>123</th>\n",
       "      <td>YpNXPZOjQ5Rdxth0N9g7ab3pH1i1.png</td>\n",
       "      <td>png</td>\n",
       "      <td>6440.762695</td>\n",
       "    </tr>\n",
       "    <tr>\n",
       "      <th>74</th>\n",
       "      <td>lPV9dg813paS5cZlYpMlLCXsDXs1.png</td>\n",
       "      <td>png</td>\n",
       "      <td>6314.470703</td>\n",
       "    </tr>\n",
       "    <tr>\n",
       "      <th>128</th>\n",
       "      <td>zDYKY9HF3SYHtlTTaH4UxgNVSHQ2.png</td>\n",
       "      <td>png</td>\n",
       "      <td>6102.082031</td>\n",
       "    </tr>\n",
       "    <tr>\n",
       "      <th>42</th>\n",
       "      <td>FzIjbeoygQRt4spAJalnEqNd0Pp1.png</td>\n",
       "      <td>png</td>\n",
       "      <td>6048.000000</td>\n",
       "    </tr>\n",
       "    <tr>\n",
       "      <th>83</th>\n",
       "      <td>oknv5vP2wAZKVO94zxHoKD1ZYSJ3.png</td>\n",
       "      <td>png</td>\n",
       "      <td>5725.393555</td>\n",
       "    </tr>\n",
       "    <tr>\n",
       "      <th>82</th>\n",
       "      <td>oh4CqM27M4PVEJLKj8uFVigMYEJ2.png</td>\n",
       "      <td>png</td>\n",
       "      <td>2495.465820</td>\n",
       "    </tr>\n",
       "    <tr>\n",
       "      <th>48</th>\n",
       "      <td>gY6LtyHpGQaugLxsMDEy86H7yGy2.png</td>\n",
       "      <td>png</td>\n",
       "      <td>1754.725586</td>\n",
       "    </tr>\n",
       "    <tr>\n",
       "      <th>45</th>\n",
       "      <td>GNhogVtO49Nw2Y9le1lFQpRcrAr2.png</td>\n",
       "      <td>png</td>\n",
       "      <td>1409.098633</td>\n",
       "    </tr>\n",
       "    <tr>\n",
       "      <th>57</th>\n",
       "      <td>IMG-20241106-WA0023(1) - Niky pedia.png</td>\n",
       "      <td>png</td>\n",
       "      <td>1127.920898</td>\n",
       "    </tr>\n",
       "    <tr>\n",
       "      <th>50</th>\n",
       "      <td>H1OEHEHxMzdIbhmMOjUdUYJ6cRr2.png</td>\n",
       "      <td>png</td>\n",
       "      <td>1117.607422</td>\n",
       "    </tr>\n",
       "    <tr>\n",
       "      <th>67</th>\n",
       "      <td>karthick.png</td>\n",
       "      <td>png</td>\n",
       "      <td>895.957031</td>\n",
       "    </tr>\n",
       "    <tr>\n",
       "      <th>15</th>\n",
       "      <td>48ywCUWkqnP7IwVM3StBztjZ1Ar1.png</td>\n",
       "      <td>png</td>\n",
       "      <td>858.818359</td>\n",
       "    </tr>\n",
       "    <tr>\n",
       "      <th>60</th>\n",
       "      <td>IMG_5141 - amargirish (2).jpeg</td>\n",
       "      <td>jpeg</td>\n",
       "      <td>730.999023</td>\n",
       "    </tr>\n",
       "    <tr>\n",
       "      <th>29</th>\n",
       "      <td>bU62C8QMwMQ8pHSYJHeT29Fjr8H2.png</td>\n",
       "      <td>png</td>\n",
       "      <td>701.242188</td>\n",
       "    </tr>\n",
       "    <tr>\n",
       "      <th>40</th>\n",
       "      <td>fheQk10hvUgStwsZSGN6LcYz94N2.jpg</td>\n",
       "      <td>jpg</td>\n",
       "      <td>466.482422</td>\n",
       "    </tr>\n",
       "    <tr>\n",
       "      <th>104</th>\n",
       "      <td>sudha_sathiyan.png</td>\n",
       "      <td>png</td>\n",
       "      <td>465.329102</td>\n",
       "    </tr>\n",
       "    <tr>\n",
       "      <th>9</th>\n",
       "      <td>20250107_215757 - Keerthi Girish.png</td>\n",
       "      <td>png</td>\n",
       "      <td>425.418945</td>\n",
       "    </tr>\n",
       "    <tr>\n",
       "      <th>20</th>\n",
       "      <td>88IZ12up0kYsw9jbyvLaMZ3qjOm1.png</td>\n",
       "      <td>png</td>\n",
       "      <td>393.318359</td>\n",
       "    </tr>\n",
       "    <tr>\n",
       "      <th>6</th>\n",
       "      <td>0pVjtsdPn9fQE0IylQKcFqmdVQJ3.png</td>\n",
       "      <td>png</td>\n",
       "      <td>280.404297</td>\n",
       "    </tr>\n",
       "    <tr>\n",
       "      <th>38</th>\n",
       "      <td>f4Xuy2P6qBbKnMnwEVg3sPLv28i2.jpg</td>\n",
       "      <td>jpg</td>\n",
       "      <td>262.865234</td>\n",
       "    </tr>\n",
       "    <tr>\n",
       "      <th>52</th>\n",
       "      <td>hMgLtuNVZiMJj39xzfk5HRryBZC3.png</td>\n",
       "      <td>png</td>\n",
       "      <td>217.166016</td>\n",
       "    </tr>\n",
       "    <tr>\n",
       "      <th>113</th>\n",
       "      <td>Venkataraman - Fin 1 Solutions.jpeg</td>\n",
       "      <td>jpeg</td>\n",
       "      <td>170.042969</td>\n",
       "    </tr>\n",
       "    <tr>\n",
       "      <th>54</th>\n",
       "      <td>iAghLbSgdiYv49aofHWzsF4I4ly1 (1).png</td>\n",
       "      <td>png</td>\n",
       "      <td>164.719727</td>\n",
       "    </tr>\n",
       "    <tr>\n",
       "      <th>1</th>\n",
       "      <td>01 - Ajay tata (1).png</td>\n",
       "      <td>png</td>\n",
       "      <td>161.794922</td>\n",
       "    </tr>\n",
       "    <tr>\n",
       "      <th>96</th>\n",
       "      <td>q3ZmFxvjshXG7Zx0DzNITbiH90q1.JPG</td>\n",
       "      <td>JPG</td>\n",
       "      <td>151.546875</td>\n",
       "    </tr>\n",
       "    <tr>\n",
       "      <th>95</th>\n",
       "      <td>PRABHU - Fin 1 Solutions.png</td>\n",
       "      <td>png</td>\n",
       "      <td>147.909180</td>\n",
       "    </tr>\n",
       "    <tr>\n",
       "      <th>68</th>\n",
       "      <td>Karthikeyan Photo - Money Time Secutiry.jpg</td>\n",
       "      <td>jpg</td>\n",
       "      <td>143.860352</td>\n",
       "    </tr>\n",
       "    <tr>\n",
       "      <th>58</th>\n",
       "      <td>IMG-20241213-WA0039 - anuradha Srikanth.jpg</td>\n",
       "      <td>jpg</td>\n",
       "      <td>129.502930</td>\n",
       "    </tr>\n",
       "    <tr>\n",
       "      <th>116</th>\n",
       "      <td>WhatsApp Image 2025-01-11 at 21.06.21_e9812187...</td>\n",
       "      <td>jpg</td>\n",
       "      <td>111.220703</td>\n",
       "    </tr>\n",
       "  </tbody>\n",
       "</table>\n",
       "</div>"
      ],
      "text/plain": [
       "                                                  name  type         size\n",
       "112                   VcklLLsmlaPvJGSJJ9oe14puJaQ2.png   png  9018.547852\n",
       "123                   YpNXPZOjQ5Rdxth0N9g7ab3pH1i1.png   png  6440.762695\n",
       "74                    lPV9dg813paS5cZlYpMlLCXsDXs1.png   png  6314.470703\n",
       "128                   zDYKY9HF3SYHtlTTaH4UxgNVSHQ2.png   png  6102.082031\n",
       "42                    FzIjbeoygQRt4spAJalnEqNd0Pp1.png   png  6048.000000\n",
       "83                    oknv5vP2wAZKVO94zxHoKD1ZYSJ3.png   png  5725.393555\n",
       "82                    oh4CqM27M4PVEJLKj8uFVigMYEJ2.png   png  2495.465820\n",
       "48                    gY6LtyHpGQaugLxsMDEy86H7yGy2.png   png  1754.725586\n",
       "45                    GNhogVtO49Nw2Y9le1lFQpRcrAr2.png   png  1409.098633\n",
       "57             IMG-20241106-WA0023(1) - Niky pedia.png   png  1127.920898\n",
       "50                    H1OEHEHxMzdIbhmMOjUdUYJ6cRr2.png   png  1117.607422\n",
       "67                                        karthick.png   png   895.957031\n",
       "15                    48ywCUWkqnP7IwVM3StBztjZ1Ar1.png   png   858.818359\n",
       "60                      IMG_5141 - amargirish (2).jpeg  jpeg   730.999023\n",
       "29                    bU62C8QMwMQ8pHSYJHeT29Fjr8H2.png   png   701.242188\n",
       "40                    fheQk10hvUgStwsZSGN6LcYz94N2.jpg   jpg   466.482422\n",
       "104                                 sudha_sathiyan.png   png   465.329102\n",
       "9                 20250107_215757 - Keerthi Girish.png   png   425.418945\n",
       "20                    88IZ12up0kYsw9jbyvLaMZ3qjOm1.png   png   393.318359\n",
       "6                     0pVjtsdPn9fQE0IylQKcFqmdVQJ3.png   png   280.404297\n",
       "38                    f4Xuy2P6qBbKnMnwEVg3sPLv28i2.jpg   jpg   262.865234\n",
       "52                    hMgLtuNVZiMJj39xzfk5HRryBZC3.png   png   217.166016\n",
       "113                Venkataraman - Fin 1 Solutions.jpeg  jpeg   170.042969\n",
       "54                iAghLbSgdiYv49aofHWzsF4I4ly1 (1).png   png   164.719727\n",
       "1                               01 - Ajay tata (1).png   png   161.794922\n",
       "96                    q3ZmFxvjshXG7Zx0DzNITbiH90q1.JPG   JPG   151.546875\n",
       "95                        PRABHU - Fin 1 Solutions.png   png   147.909180\n",
       "68         Karthikeyan Photo - Money Time Secutiry.jpg   jpg   143.860352\n",
       "58         IMG-20241213-WA0039 - anuradha Srikanth.jpg   jpg   129.502930\n",
       "116  WhatsApp Image 2025-01-11 at 21.06.21_e9812187...   jpg   111.220703"
      ]
     },
     "execution_count": 93,
     "metadata": {},
     "output_type": "execute_result"
    }
   ],
   "source": [
    "df_after[df_after['size']> 100]"
   ]
  }
 ],
 "metadata": {
  "kernelspec": {
   "display_name": ".venv",
   "language": "python",
   "name": "python3"
  },
  "language_info": {
   "codemirror_mode": {
    "name": "ipython",
    "version": 3
   },
   "file_extension": ".py",
   "mimetype": "text/x-python",
   "name": "python",
   "nbconvert_exporter": "python",
   "pygments_lexer": "ipython3",
   "version": "3.11.8"
  }
 },
 "nbformat": 4,
 "nbformat_minor": 2
}
