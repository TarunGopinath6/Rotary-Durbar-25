{
 "cells": [
  {
   "cell_type": "markdown",
   "metadata": {},
   "source": [
    "## Setup"
   ]
  },
  {
   "cell_type": "code",
   "execution_count": 3,
   "metadata": {},
   "outputs": [
    {
     "data": {
      "text/plain": [
       "True"
      ]
     },
     "execution_count": 3,
     "metadata": {},
     "output_type": "execute_result"
    }
   ],
   "source": [
    "import firebase_admin\n",
    "from firebase_admin import credentials, firestore, auth\n",
    "from supabase import create_client, Client\n",
    "import pandas as pd\n",
    "import dotenv\n",
    "import os\n",
    "import uuid\n",
    "from datetime import datetime, timezone\n",
    "import requests\n",
    "from urllib.parse import urlparse, parse_qs\n",
    "\n",
    "dotenv.load_dotenv()"
   ]
  },
  {
   "cell_type": "code",
   "execution_count": 4,
   "metadata": {},
   "outputs": [],
   "source": [
    "supabase = create_client(os.getenv('EXPO_PUBLIC_SUPABASE_URL'), os.getenv('EXPO_PUBLIC_SUPABASE_ANON_KEY'))"
   ]
  },
  {
   "cell_type": "code",
   "execution_count": 15,
   "metadata": {},
   "outputs": [],
   "source": [
    "emails = \"\"\"satyanbhatt@gmail.com\n",
    "kamalaselvam@gmail.com\n",
    "bharatmpujara@gmail.com\n",
    "lakpriya33@gmail.com\n",
    "viji.shreyas@gmail.com\n",
    "rotarian.sankaran@gmail.com\n",
    "gopi4peace@gmail.com\n",
    "studiorda@gmail.com\n",
    "venkatesh@csvr.in\n",
    "venkateshhr1966@gmail.com\n",
    "nishmst24@gmail.com\n",
    "rajeshkhanna@jbkhanna.com\n",
    "saravanan@jaitechsolutions.com\n",
    "rtncharles66@gmail.com\n",
    "sathish.rajasekar@gmail.com\n",
    "balaubs2015@gmail.com\n",
    "kar_iyer67@yahoo.com\n",
    "srikanth51@gmail.com\n",
    "malathi.gururajan@gmail.com\n",
    "profinsolutions@gmail.com\n",
    "rsaptagiri1@gmail.com\n",
    "kumaravel.r.j@gmail.com\n",
    "jvsreedhar@gmail.com\n",
    "harish@outdeboxlife.com\n",
    "palanivelghanesh@gmail.com\n",
    "akilamani2@gmail.com\n",
    "tpchandrashekar@gmail.com\n",
    "sindhu97@gmail.com\n",
    "monikaa@merakisoulfullife.com\n",
    "sansh_rox@yahoo.com\n",
    "bharathinatesan@gmail.com\n",
    "enban.jv@gmail.com\n",
    "siddharthbhaiya@hotmail.com\n",
    "params.j77@gmail.com\n",
    "mahaveer131172@icloud.com\n",
    "dellibabu_r@yahoo.co.in\n",
    "drakhilavasanth@gmail.com\n",
    "jayaramvarsu@google.com\n",
    "advocatesuresh763@yahoo.com\n",
    "raj.ramadurai@hourglassit.com\n",
    "rcantony@gmail.com\n",
    "palanithiagu@gmail.com\n",
    "thirumalaivasan.vasan@gmail.com\n",
    "shoba.rebecca@gmail.com\n",
    "ganeshsivam76@gmail.com\n",
    "indira.gautam@gmail.com\n",
    "vichandrasekar@gmail.com\n",
    "sanjusuresh@mgrjanaki.ac.in\"\"\""
   ]
  },
  {
   "cell_type": "code",
   "execution_count": 16,
   "metadata": {},
   "outputs": [],
   "source": [
    "response = supabase.table(\"members\").select(\"name, email\").in_(\"email\", emails.split()).execute()"
   ]
  },
  {
   "cell_type": "code",
   "execution_count": 19,
   "metadata": {},
   "outputs": [],
   "source": [
    "df = pd.DataFrame(response.data)"
   ]
  },
  {
   "cell_type": "code",
   "execution_count": 20,
   "metadata": {},
   "outputs": [],
   "source": [
    "df.to_csv(\"names.csv\",index=False)"
   ]
  }
 ],
 "metadata": {
  "kernelspec": {
   "display_name": ".venv",
   "language": "python",
   "name": "python3"
  },
  "language_info": {
   "codemirror_mode": {
    "name": "ipython",
    "version": 3
   },
   "file_extension": ".py",
   "mimetype": "text/x-python",
   "name": "python",
   "nbconvert_exporter": "python",
   "pygments_lexer": "ipython3",
   "version": "3.11.8"
  }
 },
 "nbformat": 4,
 "nbformat_minor": 2
}
